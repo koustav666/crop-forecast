{
 "cells": [
  {
   "cell_type": "code",
   "execution_count": 238,
   "id": "33bcdfc7-b964-4813-bd8f-07a401b88902",
   "metadata": {},
   "outputs": [],
   "source": [
    "import torch\n",
    "from torch import nn\n",
    "from torch import optim\n",
    "from torch.utils.data import Dataset\n",
    "from torch.utils.data import DataLoader\n",
    "import numpy as np\n",
    "import pandas as pd\n",
    "import numpy as np\n",
    "from sklearn.preprocessing import LabelEncoder\n",
    "from numpy.lib.stride_tricks import sliding_window_view\n",
    "import torch\n",
    "from torch.utils.data import TensorDataset, DataLoader\n",
    "from sklearn.model_selection import train_test_split\n",
    "from sklearn.preprocessing import StandardScaler\n",
    "from sklearn.decomposition import PCA\n",
    "from sklearn.metrics import mean_squared_error, mean_absolute_error, r2_score\n",
    "from copy import deepcopy\n",
    "import torch.nn.functional as F"
   ]
  },
  {
   "cell_type": "markdown",
   "id": "61d33ad1-6932-4c01-abc4-9c9f18ee896b",
   "metadata": {},
   "source": [
    "### Preprocessing"
   ]
  },
  {
   "cell_type": "code",
   "execution_count": 142,
   "id": "73671c05-9f95-4207-b8ed-8d131c51d6b6",
   "metadata": {},
   "outputs": [],
   "source": [
    "canopInt = pd.read_csv('CanopInt_inst_data.csv')\n",
    "lat_lon = pd.read_csv('country_latitude_longitude_area_lookup.csv')\n",
    "esoil = pd.read_csv('ESoil_tavg_data.csv')\n",
    "landcover = pd.read_csv('Land_cover_percent_data.csv')\n",
    "rainf = pd.read_csv('Rainf_tavg_data.csv')\n",
    "snow = pd.read_csv('Snowf_tavg_data.csv')\n",
    "soilMoi0_10 = pd.read_csv('SoilMoi0_10cm_inst_data.csv')\n",
    "soilMoi10_40 = pd.read_csv('SoilMoi10_40cm_inst_data.csv')\n",
    "soilMoi100_200 = pd.read_csv('SoilMoi100_200cm_inst_data.csv')\n",
    "soilMoi40_100 = pd.read_csv('SoilMoi40_100cm_inst_data.csv')\n",
    "soilTMP0_10 = pd.read_csv('SoilTMP0_10cm_inst_data.csv')\n",
    "soilTMP10_40 = pd.read_csv('SoilTMP10_40cm_inst_data.csv')\n",
    "soilTMP100_200 = pd.read_csv('SoilTMP100_200cm_inst_data.csv')\n",
    "soilTMP40_100 = pd.read_csv('SoilTMP40_100cm_inst_data.csv')\n",
    "TVeg = pd.read_csv('TVeg_tavg_data.csv')\n",
    "TWS = pd.read_csv('TWS_inst_data.csv')\n",
    "Yield_and_Production = pd.read_csv('Yield_and_Production_data.csv')"
   ]
  },
  {
   "cell_type": "code",
   "execution_count": 143,
   "id": "ad10e751-50b0-40fd-b340-c8da5e18d70d",
   "metadata": {},
   "outputs": [],
   "source": [
    "canopInt['Avg_CanopInt_inst']=np.mean(canopInt.iloc[:,2:-1],axis=1)\n",
    "canopInt=canopInt[['latitude','longitude','year','Avg_CanopInt_inst']]\n",
    "esoil['Avg_ESoil_tavg']=np.mean(esoil.iloc[:,2:-1],axis=1)\n",
    "esoil=esoil[['latitude','longitude','year','Avg_ESoil_tavg']]\n",
    "rainf['Avg_Rainf_tavg']=np.mean(rainf.iloc[:,2:-1],axis=1)\n",
    "rainf=rainf[['latitude','longitude','year','Avg_Rainf_tavg']]\n",
    "snow['Avg_Snowf_tavg']=np.mean(snow.iloc[:,2:-1],axis=1)\n",
    "snow=snow[['latitude','longitude','year','Avg_Snowf_tavg']]\n",
    "soilMoi0_10['Avg_SoilMoi0_10']=np.mean(soilMoi0_10.iloc[:,2:-1],axis=1)\n",
    "soilMoi0_10=soilMoi0_10[['latitude','longitude','year','Avg_SoilMoi0_10']]\n",
    "soilMoi10_40['Avg_SoilMoi10_40']=np.mean(soilMoi10_40.iloc[:,2:-1],axis=1)\n",
    "soilMoi10_40=soilMoi10_40[['latitude','longitude','year','Avg_SoilMoi10_40']]\n",
    "soilMoi100_200['Avg_SoilMoi100_200']=np.mean(soilMoi100_200.iloc[:,2:-1],axis=1)\n",
    "soilMoi100_200=soilMoi100_200[['latitude','longitude','year','Avg_SoilMoi100_200']]\n",
    "soilMoi40_100['Avg_SoilMoi40_100']=np.mean(soilMoi40_100.iloc[:,2:-1],axis=1)\n",
    "soilMoi40_100=soilMoi40_100[['latitude','longitude','year','Avg_SoilMoi40_100']]\n",
    "soilTMP0_10['Avg_SoilTMP0_10']=np.mean(soilTMP0_10.iloc[:,2:-1],axis=1)\n",
    "soilTMP0_10=soilTMP0_10[['latitude','longitude','year','Avg_SoilTMP0_10']]\n",
    "soilTMP10_40['Avg_SoilTMP10_40']=np.mean(soilTMP10_40.iloc[:,2:-1],axis=1)\n",
    "soilTMP10_40=soilTMP10_40[['latitude','longitude','year','Avg_SoilTMP10_40']]\n",
    "soilTMP100_200['Avg_SoilTMP100_200']=np.mean(soilTMP100_200.iloc[:,2:-1],axis=1)\n",
    "soilTMP100_200=soilTMP100_200[['latitude','longitude','year','Avg_SoilTMP100_200']]\n",
    "soilTMP40_100['Avg_SoilTMP40_100']=np.mean(soilTMP40_100.iloc[:,2:-1],axis=1)\n",
    "soilTMP40_100=soilTMP40_100[['latitude','longitude','year','Avg_SoilTMP40_100']]\n",
    "TWS['Avg_TWS_inst']=np.mean(TWS.iloc[:,2:-1],axis=1)\n",
    "TWS=TWS[['latitude','longitude','year','Avg_TWS_inst']]\n",
    "TVeg['Avg_TVeg_tavg']=np.mean(TVeg.iloc[:,2:-1],axis=1)\n",
    "TVeg=TVeg[['latitude','longitude','year','Avg_TVeg_tavg']]"
   ]
  },
  {
   "cell_type": "code",
   "execution_count": 144,
   "id": "5840dbd6-d50a-41d4-b679-19221a516f4f",
   "metadata": {},
   "outputs": [],
   "source": [
    "datasets = [\n",
    "    esoil, landcover, rainf, snow, soilMoi0_10, soilMoi10_40, soilMoi100_200, soilMoi40_100,\n",
    "    soilTMP0_10, soilTMP10_40, soilTMP100_200, soilTMP40_100, TWS, TVeg\n",
    "]\n",
    "\n",
    "merged_cols = canopInt.copy()\n",
    "for ds in datasets:\n",
    "    merged_cols = pd.merge(merged_cols, ds, on=['longitude', 'latitude', 'year'], how='inner')\n",
    "\n",
    "merged_cols = merged_cols.dropna().reset_index(drop=True)\n"
   ]
  },
  {
   "cell_type": "code",
   "execution_count": 145,
   "id": "63d11d47-76eb-41f4-9510-7d5481b748e4",
   "metadata": {},
   "outputs": [],
   "source": [
    "lat_lon=lat_lon.dropna().reset_index(drop=True)"
   ]
  },
  {
   "cell_type": "markdown",
   "id": "9c5726ae-8844-4cf3-b2c9-5eb227e69af2",
   "metadata": {},
   "source": [
    "### Bounding Box method"
   ]
  },
  {
   "cell_type": "code",
   "execution_count": 146,
   "id": "6cac9c7c-9f75-432e-97a4-98a9f65281b2",
   "metadata": {},
   "outputs": [],
   "source": [
    "lat_dict,long_dict={},{}\n",
    "for _, row in lat_lon.iterrows():\n",
    "    lat_min = row['centroid latitude'] - row['centroid radius']\n",
    "    lat_max = row['centroid latitude'] + row['centroid radius']\n",
    "    lon_min = row['centroid longitude'] - row['centroid radius']\n",
    "    lon_max = row['centroid longitude'] + row['centroid radius']\n",
    "    lat_dict[row['country']]=(lat_min,lat_max)\n",
    "    long_dict[row['country']]=(lon_min,lon_max)\n",
    "    \n",
    "def assign_country_box(lat, lon):\n",
    "    for key in lat_dict.keys():\n",
    "        if lat_dict[key][0] <= lat <= lat_dict[key][1] and long_dict[key][0] <= lon <= long_dict[key][1]:\n",
    "            return key\n",
    "    return 'Unknown'\n",
    "\n",
    "merged_cols['country_box'] = merged_cols.apply(lambda row: assign_country_box(row['latitude'], row['longitude']), axis=1)\n"
   ]
  },
  {
   "cell_type": "code",
   "execution_count": 147,
   "id": "8e1451a7-e2ec-4535-98c8-7947e7264cce",
   "metadata": {},
   "outputs": [
    {
     "data": {
      "text/plain": [
       "150"
      ]
     },
     "execution_count": 147,
     "metadata": {},
     "output_type": "execute_result"
    }
   ],
   "source": [
    "len(merged_cols['country_box'].unique())"
   ]
  },
  {
   "cell_type": "code",
   "execution_count": 150,
   "id": "9b931e2e-9a7f-4ad2-a01d-9f2d5b281a69",
   "metadata": {},
   "outputs": [],
   "source": [
    "centroids = lat_lon[['country', 'centroid latitude', 'centroid longitude', 'area', 'centroid radius']]"
   ]
  },
  {
   "cell_type": "markdown",
   "id": "4e925126-705e-4da3-bc44-5617def1ef8b",
   "metadata": {},
   "source": [
    "### cKDTree method"
   ]
  },
  {
   "cell_type": "code",
   "execution_count": 153,
   "id": "c303401b-33fa-4623-b754-0dc34bee5952",
   "metadata": {},
   "outputs": [],
   "source": [
    "from scipy.spatial import cKDTree\n",
    "centroids = lat_lon[['centroid latitude', 'centroid longitude']].values\n",
    "tree = cKDTree(centroids)\n",
    "points = merged_cols[['latitude', 'longitude']].values\n",
    "\n",
    "# Find nearest centroid for each point\n",
    "distances, indices = tree.query(points)\n",
    "merged_cols['country'] = lat_lon.iloc[indices]['country'].values"
   ]
  },
  {
   "cell_type": "code",
   "execution_count": 154,
   "id": "253ad679-c196-4fbd-8d4c-6e34878a1253",
   "metadata": {},
   "outputs": [
    {
     "data": {
      "text/plain": [
       "194"
      ]
     },
     "execution_count": 154,
     "metadata": {},
     "output_type": "execute_result"
    }
   ],
   "source": [
    "len(merged_cols['country'].unique())"
   ]
  },
  {
   "cell_type": "code",
   "execution_count": 160,
   "id": "924b4fb2-7770-47b6-b444-4dd5c13ff89c",
   "metadata": {},
   "outputs": [],
   "source": [
    "merged_cols = merged_cols.drop(columns=['latitude', 'longitude'])\n",
    "merged_cols = merged_cols.groupby(['country', 'year'], as_index=False).mean(numeric_only=True)"
   ]
  },
  {
   "cell_type": "code",
   "execution_count": 162,
   "id": "91c0fd29-5110-4f10-809f-82635d89bb9d",
   "metadata": {},
   "outputs": [],
   "source": [
    "Yield_and_Production=Yield_and_Production[Yield_and_Production.Element=='Yield'].reset_index(drop=True)\n",
    "Yield_and_Production=Yield_and_Production[['Country','Item','Year','Value']]\n",
    "Yield_and_Production = Yield_and_Production.rename(columns={\n",
    "    'Country': 'country',\n",
    "    'Year': 'year',\n",
    "    'Value': 'yield_value' \n",
    "})"
   ]
  },
  {
   "cell_type": "code",
   "execution_count": 164,
   "id": "cb5eee8f-fb84-459d-b7c0-f97429ea379b",
   "metadata": {},
   "outputs": [],
   "source": [
    "merged_cols = pd.merge(merged_cols,Yield_and_Production, on=['country', 'year'])"
   ]
  },
  {
   "cell_type": "markdown",
   "id": "5cec9107-13db-41ef-b8bf-16c79bd0f996",
   "metadata": {},
   "source": [
    "### Model 1: LSTM (Optional can be skipped)"
   ]
  },
  {
   "cell_type": "code",
   "execution_count": 389,
   "id": "3a44165d-9b0a-4f13-9094-f17134526389",
   "metadata": {},
   "outputs": [],
   "source": [
    "df = deepcopy(merged_cols)"
   ]
  },
  {
   "cell_type": "code",
   "execution_count": 391,
   "id": "c8a48bdc-15bb-4142-9eb0-0bbbe9f3dd59",
   "metadata": {},
   "outputs": [],
   "source": [
    "le = LabelEncoder()\n",
    "df['item_id'] = le.fit_transform(df['Item'])"
   ]
  },
  {
   "cell_type": "code",
   "execution_count": 393,
   "id": "96022e2d-2da2-42b1-a5e5-86bbcd6238e5",
   "metadata": {},
   "outputs": [],
   "source": [
    "def make_panel_sequences_default(df, feature_cols, target_col, seq_len=3):\n",
    "    # 1) Sort once by panel key and time\n",
    "    df = df.sort_values(['country','item_id','year'], ignore_index=True)\n",
    "    \n",
    "    X_list = []\n",
    "    y_list = []\n",
    "    \n",
    "    # 2) Build sequences per (country, item_id)\n",
    "    grouped = df.groupby(['country','item_id'], sort=False)\n",
    "    for (_, _), panel in grouped:\n",
    "        arr = panel[feature_cols + [target_col]].to_numpy()\n",
    "        n_rows, n_cols = arr.shape\n",
    "        \n",
    "        # need at least seq_len + 1 years to make one sample\n",
    "        if n_rows <= seq_len:\n",
    "            continue\n",
    "        \n",
    "        # 3) Vectorized sliding window along rows\n",
    "        #    windows shape: (n_rows - seq_len, seq_len+1, n_cols)\n",
    "        windows = sliding_window_view(arr, window_shape=(seq_len+1, n_cols))\n",
    "        # but numpy.view with 2D window gives extra axis, so simplify:\n",
    "        windows = windows.squeeze(1)\n",
    "        \n",
    "        # 4) Split into X (first seq_len rows) and y (last row's target)\n",
    "        Xc = windows[:, :seq_len, :-1]\n",
    "        yc = windows[:,  seq_len,   -1]\n",
    "        \n",
    "        X_list.append(Xc)\n",
    "        y_list.append(yc)\n",
    "    \n",
    "    # 5) Concatenate all panels\n",
    "    X_all = np.concatenate(X_list, axis=0)\n",
    "    y_all = np.concatenate(y_list, axis=0)\n",
    "    return X_all, y_all"
   ]
  },
  {
   "cell_type": "code",
   "execution_count": 395,
   "id": "6685d10e-c65c-4c24-a28b-e3dbbcd80f98",
   "metadata": {},
   "outputs": [
    {
     "data": {
      "text/plain": [
       "['Avg_CanopInt_inst',\n",
       " 'Avg_ESoil_tavg',\n",
       " 'Land_cover_percent_class_1',\n",
       " 'Land_cover_percent_class_2',\n",
       " 'Land_cover_percent_class_3',\n",
       " 'Land_cover_percent_classh_4',\n",
       " 'Land_cover_percent_class_5',\n",
       " 'Land_cover_percent_class_6',\n",
       " 'Land_cover_percent_class_7',\n",
       " 'Land_cover_percent_class_8',\n",
       " 'Land_cover_percent_class_9',\n",
       " 'Land_cover_percent_class_10',\n",
       " 'Land_cover_percent_class_11',\n",
       " 'Land_cover_percent_class_12',\n",
       " 'Land_cover_percent_class_13',\n",
       " 'Land_cover_percent_class_14',\n",
       " 'Land_cover_percent_class_15',\n",
       " 'Land_cover_percent_class_16',\n",
       " 'Land_cover_percent_class_17',\n",
       " 'Avg_Rainf_tavg',\n",
       " 'Avg_Snowf_tavg',\n",
       " 'Avg_SoilMoi0_10',\n",
       " 'Avg_SoilMoi10_40',\n",
       " 'Avg_SoilMoi100_200',\n",
       " 'Avg_SoilMoi40_100',\n",
       " 'Avg_SoilTMP0_10',\n",
       " 'Avg_SoilTMP10_40',\n",
       " 'Avg_SoilTMP100_200',\n",
       " 'Avg_SoilTMP40_100',\n",
       " 'Avg_TWS_inst',\n",
       " 'Avg_TVeg_tavg',\n",
       " 'item_id']"
      ]
     },
     "execution_count": 395,
     "metadata": {},
     "output_type": "execute_result"
    }
   ],
   "source": [
    "[\n",
    "    c for c in df.columns\n",
    "    if c not in ['latitude','longitude','Item','yield_value','country','year']\n",
    "]"
   ]
  },
  {
   "cell_type": "code",
   "execution_count": 397,
   "id": "651ae09d-505b-4407-8083-014623253441",
   "metadata": {},
   "outputs": [
    {
     "name": "stdout",
     "output_type": "stream",
     "text": [
      "X.shape: (51613, 3, 32)\n",
      "y.shape: (51613,)\n"
     ]
    }
   ],
   "source": [
    "seq_len = 3\n",
    "X_scaler = StandardScaler()\n",
    "y_scaler = StandardScaler()\n",
    "\n",
    "feature_cols = [\n",
    "    c for c in df.columns\n",
    "    if c not in ['latitude','longitude','Item','yield_value','country','year']\n",
    "]\n",
    "\n",
    "# Scale feature matrix and target vector\n",
    "df[feature_cols] = X_scaler.fit_transform(df[feature_cols])\n",
    "df['Value_scaled'] = y_scaler.fit_transform(df[['yield_value']])\n",
    "feature_cols = [\n",
    "    c for c in df.columns\n",
    "    if c not in ['latitude','longitude','Item','yield_value','country','year','Value_scaled']\n",
    "]\n",
    "\n",
    "X, y = make_panel_sequences_default(df, feature_cols, 'Value_scaled', seq_len)\n",
    "\n",
    "print(\"X.shape:\", X.shape)  # → (total_sequences, seq_len, num_features)\n",
    "print(\"y.shape:\", y.shape)"
   ]
  },
  {
   "cell_type": "markdown",
   "id": "47c0991e-fff9-4383-bbbd-636c0a48d5c2",
   "metadata": {},
   "source": [
    "### Train Validation splitting"
   ]
  },
  {
   "cell_type": "code",
   "execution_count": 398,
   "id": "aa852cf6-fb0a-4890-91fa-fc31ce0599e2",
   "metadata": {},
   "outputs": [],
   "source": [
    "X_train, X_val, y_train, y_val = train_test_split(X, y, test_size=0.2, random_state=42, shuffle=True)"
   ]
  },
  {
   "cell_type": "code",
   "execution_count": 399,
   "id": "886dc078-36e6-4779-873c-9f84e998e8df",
   "metadata": {},
   "outputs": [],
   "source": [
    "class PanelLSTM(nn.Module):\n",
    "    def __init__(self, input_size, hidden_size, num_layers=1, dropout=0.2):\n",
    "        super().__init__()\n",
    "        self.lstm = nn.LSTM(input_size, hidden_size, num_layers,\n",
    "                            batch_first=True,\n",
    "                            dropout=dropout if num_layers>1 else 0)\n",
    "        self.fc   = nn.Linear(hidden_size, 1)\n",
    "\n",
    "    def forward(self, x):\n",
    "        # x: (batch, seq_len, input_size)\n",
    "        out, _ = self.lstm(x)         # out: (batch, seq_len, hidden_size)\n",
    "        last = out[:, -1, :]          # last timestep\n",
    "        return self.fc(last).squeeze()  # (batch,)"
   ]
  },
  {
   "cell_type": "markdown",
   "id": "7db32919-3f24-4673-9530-88cbb374a00c",
   "metadata": {},
   "source": [
    "### Training and Validation"
   ]
  },
  {
   "cell_type": "code",
   "execution_count": 400,
   "id": "ba8f0fd6-2c1d-45f5-ad1c-1223dfb35217",
   "metadata": {},
   "outputs": [
    {
     "name": "stderr",
     "output_type": "stream",
     "text": [
      "C:\\Users\\Koustav Bhattacharje\\anaconda3\\Lib\\site-packages\\torch\\utils\\data\\dataloader.py:665: UserWarning: 'pin_memory' argument is set as true but no accelerator is found, then device pinned memory won't be used.\n",
      "  warnings.warn(warn_msg)\n",
      "C:\\Users\\Koustav Bhattacharje\\anaconda3\\Lib\\site-packages\\torch\\utils\\data\\dataloader.py:665: UserWarning: 'pin_memory' argument is set as true but no accelerator is found, then device pinned memory won't be used.\n",
      "  warnings.warn(warn_msg)\n",
      "C:\\Users\\Koustav Bhattacharje\\anaconda3\\Lib\\site-packages\\torch\\utils\\data\\dataloader.py:665: UserWarning: 'pin_memory' argument is set as true but no accelerator is found, then device pinned memory won't be used.\n",
      "  warnings.warn(warn_msg)\n"
     ]
    },
    {
     "name": "stdout",
     "output_type": "stream",
     "text": [
      "Epoch 001 — Train Loss: 0.9540, Val Loss: 0.9312 ,Train R2 score: 0.0498, Val R2 score: 0.0571\n"
     ]
    },
    {
     "name": "stderr",
     "output_type": "stream",
     "text": [
      "C:\\Users\\Koustav Bhattacharje\\anaconda3\\Lib\\site-packages\\torch\\utils\\data\\dataloader.py:665: UserWarning: 'pin_memory' argument is set as true but no accelerator is found, then device pinned memory won't be used.\n",
      "  warnings.warn(warn_msg)\n",
      "C:\\Users\\Koustav Bhattacharje\\anaconda3\\Lib\\site-packages\\torch\\utils\\data\\dataloader.py:665: UserWarning: 'pin_memory' argument is set as true but no accelerator is found, then device pinned memory won't be used.\n",
      "  warnings.warn(warn_msg)\n"
     ]
    },
    {
     "name": "stdout",
     "output_type": "stream",
     "text": [
      "Epoch 002 — Train Loss: 0.9338, Val Loss: 0.9159 ,Train R2 score: 0.0698, Val R2 score: 0.0726\n"
     ]
    },
    {
     "name": "stderr",
     "output_type": "stream",
     "text": [
      "C:\\Users\\Koustav Bhattacharje\\anaconda3\\Lib\\site-packages\\torch\\utils\\data\\dataloader.py:665: UserWarning: 'pin_memory' argument is set as true but no accelerator is found, then device pinned memory won't be used.\n",
      "  warnings.warn(warn_msg)\n",
      "C:\\Users\\Koustav Bhattacharje\\anaconda3\\Lib\\site-packages\\torch\\utils\\data\\dataloader.py:665: UserWarning: 'pin_memory' argument is set as true but no accelerator is found, then device pinned memory won't be used.\n",
      "  warnings.warn(warn_msg)\n"
     ]
    },
    {
     "name": "stdout",
     "output_type": "stream",
     "text": [
      "Epoch 003 — Train Loss: 0.9234, Val Loss: 0.9093 ,Train R2 score: 0.0803, Val R2 score: 0.0793\n"
     ]
    },
    {
     "name": "stderr",
     "output_type": "stream",
     "text": [
      "C:\\Users\\Koustav Bhattacharje\\anaconda3\\Lib\\site-packages\\torch\\utils\\data\\dataloader.py:665: UserWarning: 'pin_memory' argument is set as true but no accelerator is found, then device pinned memory won't be used.\n",
      "  warnings.warn(warn_msg)\n",
      "C:\\Users\\Koustav Bhattacharje\\anaconda3\\Lib\\site-packages\\torch\\utils\\data\\dataloader.py:665: UserWarning: 'pin_memory' argument is set as true but no accelerator is found, then device pinned memory won't be used.\n",
      "  warnings.warn(warn_msg)\n"
     ]
    },
    {
     "name": "stdout",
     "output_type": "stream",
     "text": [
      "Epoch 004 — Train Loss: 0.9141, Val Loss: 0.9186 ,Train R2 score: 0.0895, Val R2 score: 0.0698\n"
     ]
    },
    {
     "name": "stderr",
     "output_type": "stream",
     "text": [
      "C:\\Users\\Koustav Bhattacharje\\anaconda3\\Lib\\site-packages\\torch\\utils\\data\\dataloader.py:665: UserWarning: 'pin_memory' argument is set as true but no accelerator is found, then device pinned memory won't be used.\n",
      "  warnings.warn(warn_msg)\n",
      "C:\\Users\\Koustav Bhattacharje\\anaconda3\\Lib\\site-packages\\torch\\utils\\data\\dataloader.py:665: UserWarning: 'pin_memory' argument is set as true but no accelerator is found, then device pinned memory won't be used.\n",
      "  warnings.warn(warn_msg)\n"
     ]
    },
    {
     "name": "stdout",
     "output_type": "stream",
     "text": [
      "Epoch 005 — Train Loss: 0.9080, Val Loss: 0.8989 ,Train R2 score: 0.0955, Val R2 score: 0.0897\n"
     ]
    },
    {
     "name": "stderr",
     "output_type": "stream",
     "text": [
      "C:\\Users\\Koustav Bhattacharje\\anaconda3\\Lib\\site-packages\\torch\\utils\\data\\dataloader.py:665: UserWarning: 'pin_memory' argument is set as true but no accelerator is found, then device pinned memory won't be used.\n",
      "  warnings.warn(warn_msg)\n",
      "C:\\Users\\Koustav Bhattacharje\\anaconda3\\Lib\\site-packages\\torch\\utils\\data\\dataloader.py:665: UserWarning: 'pin_memory' argument is set as true but no accelerator is found, then device pinned memory won't be used.\n",
      "  warnings.warn(warn_msg)\n"
     ]
    },
    {
     "name": "stdout",
     "output_type": "stream",
     "text": [
      "Epoch 006 — Train Loss: 0.9042, Val Loss: 0.8985 ,Train R2 score: 0.0994, Val R2 score: 0.0902\n"
     ]
    },
    {
     "name": "stderr",
     "output_type": "stream",
     "text": [
      "C:\\Users\\Koustav Bhattacharje\\anaconda3\\Lib\\site-packages\\torch\\utils\\data\\dataloader.py:665: UserWarning: 'pin_memory' argument is set as true but no accelerator is found, then device pinned memory won't be used.\n",
      "  warnings.warn(warn_msg)\n",
      "C:\\Users\\Koustav Bhattacharje\\anaconda3\\Lib\\site-packages\\torch\\utils\\data\\dataloader.py:665: UserWarning: 'pin_memory' argument is set as true but no accelerator is found, then device pinned memory won't be used.\n",
      "  warnings.warn(warn_msg)\n"
     ]
    },
    {
     "name": "stdout",
     "output_type": "stream",
     "text": [
      "Epoch 007 — Train Loss: 0.8988, Val Loss: 0.8928 ,Train R2 score: 0.1047, Val R2 score: 0.0959\n"
     ]
    },
    {
     "name": "stderr",
     "output_type": "stream",
     "text": [
      "C:\\Users\\Koustav Bhattacharje\\anaconda3\\Lib\\site-packages\\torch\\utils\\data\\dataloader.py:665: UserWarning: 'pin_memory' argument is set as true but no accelerator is found, then device pinned memory won't be used.\n",
      "  warnings.warn(warn_msg)\n",
      "C:\\Users\\Koustav Bhattacharje\\anaconda3\\Lib\\site-packages\\torch\\utils\\data\\dataloader.py:665: UserWarning: 'pin_memory' argument is set as true but no accelerator is found, then device pinned memory won't be used.\n",
      "  warnings.warn(warn_msg)\n"
     ]
    },
    {
     "name": "stdout",
     "output_type": "stream",
     "text": [
      "Epoch 008 — Train Loss: 0.8966, Val Loss: 0.8936 ,Train R2 score: 0.1069, Val R2 score: 0.0952\n"
     ]
    },
    {
     "name": "stderr",
     "output_type": "stream",
     "text": [
      "C:\\Users\\Koustav Bhattacharje\\anaconda3\\Lib\\site-packages\\torch\\utils\\data\\dataloader.py:665: UserWarning: 'pin_memory' argument is set as true but no accelerator is found, then device pinned memory won't be used.\n",
      "  warnings.warn(warn_msg)\n",
      "C:\\Users\\Koustav Bhattacharje\\anaconda3\\Lib\\site-packages\\torch\\utils\\data\\dataloader.py:665: UserWarning: 'pin_memory' argument is set as true but no accelerator is found, then device pinned memory won't be used.\n",
      "  warnings.warn(warn_msg)\n"
     ]
    },
    {
     "name": "stdout",
     "output_type": "stream",
     "text": [
      "Epoch 009 — Train Loss: 0.8920, Val Loss: 0.8796 ,Train R2 score: 0.1115, Val R2 score: 0.1093\n"
     ]
    },
    {
     "name": "stderr",
     "output_type": "stream",
     "text": [
      "C:\\Users\\Koustav Bhattacharje\\anaconda3\\Lib\\site-packages\\torch\\utils\\data\\dataloader.py:665: UserWarning: 'pin_memory' argument is set as true but no accelerator is found, then device pinned memory won't be used.\n",
      "  warnings.warn(warn_msg)\n",
      "C:\\Users\\Koustav Bhattacharje\\anaconda3\\Lib\\site-packages\\torch\\utils\\data\\dataloader.py:665: UserWarning: 'pin_memory' argument is set as true but no accelerator is found, then device pinned memory won't be used.\n",
      "  warnings.warn(warn_msg)\n"
     ]
    },
    {
     "name": "stdout",
     "output_type": "stream",
     "text": [
      "Epoch 010 — Train Loss: 0.8891, Val Loss: 0.8801 ,Train R2 score: 0.1144, Val R2 score: 0.1088\n"
     ]
    },
    {
     "name": "stderr",
     "output_type": "stream",
     "text": [
      "C:\\Users\\Koustav Bhattacharje\\anaconda3\\Lib\\site-packages\\torch\\utils\\data\\dataloader.py:665: UserWarning: 'pin_memory' argument is set as true but no accelerator is found, then device pinned memory won't be used.\n",
      "  warnings.warn(warn_msg)\n",
      "C:\\Users\\Koustav Bhattacharje\\anaconda3\\Lib\\site-packages\\torch\\utils\\data\\dataloader.py:665: UserWarning: 'pin_memory' argument is set as true but no accelerator is found, then device pinned memory won't be used.\n",
      "  warnings.warn(warn_msg)\n"
     ]
    },
    {
     "name": "stdout",
     "output_type": "stream",
     "text": [
      "Epoch 011 — Train Loss: 0.8868, Val Loss: 0.8788 ,Train R2 score: 0.1167, Val R2 score: 0.1101\n"
     ]
    },
    {
     "name": "stderr",
     "output_type": "stream",
     "text": [
      "C:\\Users\\Koustav Bhattacharje\\anaconda3\\Lib\\site-packages\\torch\\utils\\data\\dataloader.py:665: UserWarning: 'pin_memory' argument is set as true but no accelerator is found, then device pinned memory won't be used.\n",
      "  warnings.warn(warn_msg)\n",
      "C:\\Users\\Koustav Bhattacharje\\anaconda3\\Lib\\site-packages\\torch\\utils\\data\\dataloader.py:665: UserWarning: 'pin_memory' argument is set as true but no accelerator is found, then device pinned memory won't be used.\n",
      "  warnings.warn(warn_msg)\n"
     ]
    },
    {
     "name": "stdout",
     "output_type": "stream",
     "text": [
      "Epoch 012 — Train Loss: 0.8828, Val Loss: 0.8789 ,Train R2 score: 0.1206, Val R2 score: 0.1100\n"
     ]
    },
    {
     "name": "stderr",
     "output_type": "stream",
     "text": [
      "C:\\Users\\Koustav Bhattacharje\\anaconda3\\Lib\\site-packages\\torch\\utils\\data\\dataloader.py:665: UserWarning: 'pin_memory' argument is set as true but no accelerator is found, then device pinned memory won't be used.\n",
      "  warnings.warn(warn_msg)\n",
      "C:\\Users\\Koustav Bhattacharje\\anaconda3\\Lib\\site-packages\\torch\\utils\\data\\dataloader.py:665: UserWarning: 'pin_memory' argument is set as true but no accelerator is found, then device pinned memory won't be used.\n",
      "  warnings.warn(warn_msg)\n"
     ]
    },
    {
     "name": "stdout",
     "output_type": "stream",
     "text": [
      "Epoch 013 — Train Loss: 0.8822, Val Loss: 0.8767 ,Train R2 score: 0.1212, Val R2 score: 0.1122\n"
     ]
    },
    {
     "name": "stderr",
     "output_type": "stream",
     "text": [
      "C:\\Users\\Koustav Bhattacharje\\anaconda3\\Lib\\site-packages\\torch\\utils\\data\\dataloader.py:665: UserWarning: 'pin_memory' argument is set as true but no accelerator is found, then device pinned memory won't be used.\n",
      "  warnings.warn(warn_msg)\n",
      "C:\\Users\\Koustav Bhattacharje\\anaconda3\\Lib\\site-packages\\torch\\utils\\data\\dataloader.py:665: UserWarning: 'pin_memory' argument is set as true but no accelerator is found, then device pinned memory won't be used.\n",
      "  warnings.warn(warn_msg)\n"
     ]
    },
    {
     "name": "stdout",
     "output_type": "stream",
     "text": [
      "Epoch 014 — Train Loss: 0.8764, Val Loss: 0.8726 ,Train R2 score: 0.1270, Val R2 score: 0.1164\n"
     ]
    },
    {
     "name": "stderr",
     "output_type": "stream",
     "text": [
      "C:\\Users\\Koustav Bhattacharje\\anaconda3\\Lib\\site-packages\\torch\\utils\\data\\dataloader.py:665: UserWarning: 'pin_memory' argument is set as true but no accelerator is found, then device pinned memory won't be used.\n",
      "  warnings.warn(warn_msg)\n",
      "C:\\Users\\Koustav Bhattacharje\\anaconda3\\Lib\\site-packages\\torch\\utils\\data\\dataloader.py:665: UserWarning: 'pin_memory' argument is set as true but no accelerator is found, then device pinned memory won't be used.\n",
      "  warnings.warn(warn_msg)\n"
     ]
    },
    {
     "name": "stdout",
     "output_type": "stream",
     "text": [
      "Epoch 015 — Train Loss: 0.8744, Val Loss: 0.8780 ,Train R2 score: 0.1290, Val R2 score: 0.1109\n"
     ]
    },
    {
     "name": "stderr",
     "output_type": "stream",
     "text": [
      "C:\\Users\\Koustav Bhattacharje\\anaconda3\\Lib\\site-packages\\torch\\utils\\data\\dataloader.py:665: UserWarning: 'pin_memory' argument is set as true but no accelerator is found, then device pinned memory won't be used.\n",
      "  warnings.warn(warn_msg)\n",
      "C:\\Users\\Koustav Bhattacharje\\anaconda3\\Lib\\site-packages\\torch\\utils\\data\\dataloader.py:665: UserWarning: 'pin_memory' argument is set as true but no accelerator is found, then device pinned memory won't be used.\n",
      "  warnings.warn(warn_msg)\n"
     ]
    },
    {
     "name": "stdout",
     "output_type": "stream",
     "text": [
      "Epoch 016 — Train Loss: 0.8728, Val Loss: 0.8621 ,Train R2 score: 0.1306, Val R2 score: 0.1270\n"
     ]
    },
    {
     "name": "stderr",
     "output_type": "stream",
     "text": [
      "C:\\Users\\Koustav Bhattacharje\\anaconda3\\Lib\\site-packages\\torch\\utils\\data\\dataloader.py:665: UserWarning: 'pin_memory' argument is set as true but no accelerator is found, then device pinned memory won't be used.\n",
      "  warnings.warn(warn_msg)\n",
      "C:\\Users\\Koustav Bhattacharje\\anaconda3\\Lib\\site-packages\\torch\\utils\\data\\dataloader.py:665: UserWarning: 'pin_memory' argument is set as true but no accelerator is found, then device pinned memory won't be used.\n",
      "  warnings.warn(warn_msg)\n"
     ]
    },
    {
     "name": "stdout",
     "output_type": "stream",
     "text": [
      "Epoch 017 — Train Loss: 0.8669, Val Loss: 0.8614 ,Train R2 score: 0.1365, Val R2 score: 0.1278\n"
     ]
    },
    {
     "name": "stderr",
     "output_type": "stream",
     "text": [
      "C:\\Users\\Koustav Bhattacharje\\anaconda3\\Lib\\site-packages\\torch\\utils\\data\\dataloader.py:665: UserWarning: 'pin_memory' argument is set as true but no accelerator is found, then device pinned memory won't be used.\n",
      "  warnings.warn(warn_msg)\n",
      "C:\\Users\\Koustav Bhattacharje\\anaconda3\\Lib\\site-packages\\torch\\utils\\data\\dataloader.py:665: UserWarning: 'pin_memory' argument is set as true but no accelerator is found, then device pinned memory won't be used.\n",
      "  warnings.warn(warn_msg)\n"
     ]
    },
    {
     "name": "stdout",
     "output_type": "stream",
     "text": [
      "Epoch 018 — Train Loss: 0.8671, Val Loss: 0.8712 ,Train R2 score: 0.1363, Val R2 score: 0.1178\n"
     ]
    },
    {
     "name": "stderr",
     "output_type": "stream",
     "text": [
      "C:\\Users\\Koustav Bhattacharje\\anaconda3\\Lib\\site-packages\\torch\\utils\\data\\dataloader.py:665: UserWarning: 'pin_memory' argument is set as true but no accelerator is found, then device pinned memory won't be used.\n",
      "  warnings.warn(warn_msg)\n",
      "C:\\Users\\Koustav Bhattacharje\\anaconda3\\Lib\\site-packages\\torch\\utils\\data\\dataloader.py:665: UserWarning: 'pin_memory' argument is set as true but no accelerator is found, then device pinned memory won't be used.\n",
      "  warnings.warn(warn_msg)\n"
     ]
    },
    {
     "name": "stdout",
     "output_type": "stream",
     "text": [
      "Epoch 019 — Train Loss: 0.8650, Val Loss: 0.8628 ,Train R2 score: 0.1384, Val R2 score: 0.1263\n"
     ]
    },
    {
     "name": "stderr",
     "output_type": "stream",
     "text": [
      "C:\\Users\\Koustav Bhattacharje\\anaconda3\\Lib\\site-packages\\torch\\utils\\data\\dataloader.py:665: UserWarning: 'pin_memory' argument is set as true but no accelerator is found, then device pinned memory won't be used.\n",
      "  warnings.warn(warn_msg)\n",
      "C:\\Users\\Koustav Bhattacharje\\anaconda3\\Lib\\site-packages\\torch\\utils\\data\\dataloader.py:665: UserWarning: 'pin_memory' argument is set as true but no accelerator is found, then device pinned memory won't be used.\n",
      "  warnings.warn(warn_msg)\n"
     ]
    },
    {
     "name": "stdout",
     "output_type": "stream",
     "text": [
      "Epoch 020 — Train Loss: 0.8591, Val Loss: 0.8537 ,Train R2 score: 0.1443, Val R2 score: 0.1356\n"
     ]
    },
    {
     "name": "stderr",
     "output_type": "stream",
     "text": [
      "C:\\Users\\Koustav Bhattacharje\\anaconda3\\Lib\\site-packages\\torch\\utils\\data\\dataloader.py:665: UserWarning: 'pin_memory' argument is set as true but no accelerator is found, then device pinned memory won't be used.\n",
      "  warnings.warn(warn_msg)\n",
      "C:\\Users\\Koustav Bhattacharje\\anaconda3\\Lib\\site-packages\\torch\\utils\\data\\dataloader.py:665: UserWarning: 'pin_memory' argument is set as true but no accelerator is found, then device pinned memory won't be used.\n",
      "  warnings.warn(warn_msg)\n"
     ]
    },
    {
     "name": "stdout",
     "output_type": "stream",
     "text": [
      "Epoch 021 — Train Loss: 0.8545, Val Loss: 0.8587 ,Train R2 score: 0.1488, Val R2 score: 0.1305\n"
     ]
    },
    {
     "name": "stderr",
     "output_type": "stream",
     "text": [
      "C:\\Users\\Koustav Bhattacharje\\anaconda3\\Lib\\site-packages\\torch\\utils\\data\\dataloader.py:665: UserWarning: 'pin_memory' argument is set as true but no accelerator is found, then device pinned memory won't be used.\n",
      "  warnings.warn(warn_msg)\n",
      "C:\\Users\\Koustav Bhattacharje\\anaconda3\\Lib\\site-packages\\torch\\utils\\data\\dataloader.py:665: UserWarning: 'pin_memory' argument is set as true but no accelerator is found, then device pinned memory won't be used.\n",
      "  warnings.warn(warn_msg)\n"
     ]
    },
    {
     "name": "stdout",
     "output_type": "stream",
     "text": [
      "Epoch 022 — Train Loss: 0.8535, Val Loss: 0.8447 ,Train R2 score: 0.1498, Val R2 score: 0.1447\n"
     ]
    },
    {
     "name": "stderr",
     "output_type": "stream",
     "text": [
      "C:\\Users\\Koustav Bhattacharje\\anaconda3\\Lib\\site-packages\\torch\\utils\\data\\dataloader.py:665: UserWarning: 'pin_memory' argument is set as true but no accelerator is found, then device pinned memory won't be used.\n",
      "  warnings.warn(warn_msg)\n",
      "C:\\Users\\Koustav Bhattacharje\\anaconda3\\Lib\\site-packages\\torch\\utils\\data\\dataloader.py:665: UserWarning: 'pin_memory' argument is set as true but no accelerator is found, then device pinned memory won't be used.\n",
      "  warnings.warn(warn_msg)\n"
     ]
    },
    {
     "name": "stdout",
     "output_type": "stream",
     "text": [
      "Epoch 023 — Train Loss: 0.8453, Val Loss: 0.8471 ,Train R2 score: 0.1581, Val R2 score: 0.1422\n"
     ]
    },
    {
     "name": "stderr",
     "output_type": "stream",
     "text": [
      "C:\\Users\\Koustav Bhattacharje\\anaconda3\\Lib\\site-packages\\torch\\utils\\data\\dataloader.py:665: UserWarning: 'pin_memory' argument is set as true but no accelerator is found, then device pinned memory won't be used.\n",
      "  warnings.warn(warn_msg)\n",
      "C:\\Users\\Koustav Bhattacharje\\anaconda3\\Lib\\site-packages\\torch\\utils\\data\\dataloader.py:665: UserWarning: 'pin_memory' argument is set as true but no accelerator is found, then device pinned memory won't be used.\n",
      "  warnings.warn(warn_msg)\n"
     ]
    },
    {
     "name": "stdout",
     "output_type": "stream",
     "text": [
      "Epoch 024 — Train Loss: 0.8463, Val Loss: 0.8442 ,Train R2 score: 0.1570, Val R2 score: 0.1452\n"
     ]
    },
    {
     "name": "stderr",
     "output_type": "stream",
     "text": [
      "C:\\Users\\Koustav Bhattacharje\\anaconda3\\Lib\\site-packages\\torch\\utils\\data\\dataloader.py:665: UserWarning: 'pin_memory' argument is set as true but no accelerator is found, then device pinned memory won't be used.\n",
      "  warnings.warn(warn_msg)\n",
      "C:\\Users\\Koustav Bhattacharje\\anaconda3\\Lib\\site-packages\\torch\\utils\\data\\dataloader.py:665: UserWarning: 'pin_memory' argument is set as true but no accelerator is found, then device pinned memory won't be used.\n",
      "  warnings.warn(warn_msg)\n"
     ]
    },
    {
     "name": "stdout",
     "output_type": "stream",
     "text": [
      "Epoch 025 — Train Loss: 0.8358, Val Loss: 0.8333 ,Train R2 score: 0.1675, Val R2 score: 0.1562\n"
     ]
    },
    {
     "name": "stderr",
     "output_type": "stream",
     "text": [
      "C:\\Users\\Koustav Bhattacharje\\anaconda3\\Lib\\site-packages\\torch\\utils\\data\\dataloader.py:665: UserWarning: 'pin_memory' argument is set as true but no accelerator is found, then device pinned memory won't be used.\n",
      "  warnings.warn(warn_msg)\n",
      "C:\\Users\\Koustav Bhattacharje\\anaconda3\\Lib\\site-packages\\torch\\utils\\data\\dataloader.py:665: UserWarning: 'pin_memory' argument is set as true but no accelerator is found, then device pinned memory won't be used.\n",
      "  warnings.warn(warn_msg)\n"
     ]
    },
    {
     "name": "stdout",
     "output_type": "stream",
     "text": [
      "Epoch 026 — Train Loss: 0.8287, Val Loss: 0.8127 ,Train R2 score: 0.1745, Val R2 score: 0.1770\n"
     ]
    },
    {
     "name": "stderr",
     "output_type": "stream",
     "text": [
      "C:\\Users\\Koustav Bhattacharje\\anaconda3\\Lib\\site-packages\\torch\\utils\\data\\dataloader.py:665: UserWarning: 'pin_memory' argument is set as true but no accelerator is found, then device pinned memory won't be used.\n",
      "  warnings.warn(warn_msg)\n",
      "C:\\Users\\Koustav Bhattacharje\\anaconda3\\Lib\\site-packages\\torch\\utils\\data\\dataloader.py:665: UserWarning: 'pin_memory' argument is set as true but no accelerator is found, then device pinned memory won't be used.\n",
      "  warnings.warn(warn_msg)\n"
     ]
    },
    {
     "name": "stdout",
     "output_type": "stream",
     "text": [
      "Epoch 027 — Train Loss: 0.8089, Val Loss: 0.7879 ,Train R2 score: 0.1942, Val R2 score: 0.2022\n"
     ]
    },
    {
     "name": "stderr",
     "output_type": "stream",
     "text": [
      "C:\\Users\\Koustav Bhattacharje\\anaconda3\\Lib\\site-packages\\torch\\utils\\data\\dataloader.py:665: UserWarning: 'pin_memory' argument is set as true but no accelerator is found, then device pinned memory won't be used.\n",
      "  warnings.warn(warn_msg)\n",
      "C:\\Users\\Koustav Bhattacharje\\anaconda3\\Lib\\site-packages\\torch\\utils\\data\\dataloader.py:665: UserWarning: 'pin_memory' argument is set as true but no accelerator is found, then device pinned memory won't be used.\n",
      "  warnings.warn(warn_msg)\n"
     ]
    },
    {
     "name": "stdout",
     "output_type": "stream",
     "text": [
      "Epoch 028 — Train Loss: 0.7956, Val Loss: 0.7613 ,Train R2 score: 0.2075, Val R2 score: 0.2291\n"
     ]
    },
    {
     "name": "stderr",
     "output_type": "stream",
     "text": [
      "C:\\Users\\Koustav Bhattacharje\\anaconda3\\Lib\\site-packages\\torch\\utils\\data\\dataloader.py:665: UserWarning: 'pin_memory' argument is set as true but no accelerator is found, then device pinned memory won't be used.\n",
      "  warnings.warn(warn_msg)\n",
      "C:\\Users\\Koustav Bhattacharje\\anaconda3\\Lib\\site-packages\\torch\\utils\\data\\dataloader.py:665: UserWarning: 'pin_memory' argument is set as true but no accelerator is found, then device pinned memory won't be used.\n",
      "  warnings.warn(warn_msg)\n"
     ]
    },
    {
     "name": "stdout",
     "output_type": "stream",
     "text": [
      "Epoch 029 — Train Loss: 0.7819, Val Loss: 0.7742 ,Train R2 score: 0.2212, Val R2 score: 0.2161\n"
     ]
    },
    {
     "name": "stderr",
     "output_type": "stream",
     "text": [
      "C:\\Users\\Koustav Bhattacharje\\anaconda3\\Lib\\site-packages\\torch\\utils\\data\\dataloader.py:665: UserWarning: 'pin_memory' argument is set as true but no accelerator is found, then device pinned memory won't be used.\n",
      "  warnings.warn(warn_msg)\n",
      "C:\\Users\\Koustav Bhattacharje\\anaconda3\\Lib\\site-packages\\torch\\utils\\data\\dataloader.py:665: UserWarning: 'pin_memory' argument is set as true but no accelerator is found, then device pinned memory won't be used.\n",
      "  warnings.warn(warn_msg)\n"
     ]
    },
    {
     "name": "stdout",
     "output_type": "stream",
     "text": [
      "Epoch 030 — Train Loss: 0.7518, Val Loss: 0.8750 ,Train R2 score: 0.2511, Val R2 score: 0.1140\n"
     ]
    },
    {
     "name": "stderr",
     "output_type": "stream",
     "text": [
      "C:\\Users\\Koustav Bhattacharje\\anaconda3\\Lib\\site-packages\\torch\\utils\\data\\dataloader.py:665: UserWarning: 'pin_memory' argument is set as true but no accelerator is found, then device pinned memory won't be used.\n",
      "  warnings.warn(warn_msg)\n",
      "C:\\Users\\Koustav Bhattacharje\\anaconda3\\Lib\\site-packages\\torch\\utils\\data\\dataloader.py:665: UserWarning: 'pin_memory' argument is set as true but no accelerator is found, then device pinned memory won't be used.\n",
      "  warnings.warn(warn_msg)\n"
     ]
    },
    {
     "name": "stdout",
     "output_type": "stream",
     "text": [
      "Epoch 031 — Train Loss: 0.8041, Val Loss: 0.7644 ,Train R2 score: 0.1991, Val R2 score: 0.2260\n"
     ]
    },
    {
     "name": "stderr",
     "output_type": "stream",
     "text": [
      "C:\\Users\\Koustav Bhattacharje\\anaconda3\\Lib\\site-packages\\torch\\utils\\data\\dataloader.py:665: UserWarning: 'pin_memory' argument is set as true but no accelerator is found, then device pinned memory won't be used.\n",
      "  warnings.warn(warn_msg)\n",
      "C:\\Users\\Koustav Bhattacharje\\anaconda3\\Lib\\site-packages\\torch\\utils\\data\\dataloader.py:665: UserWarning: 'pin_memory' argument is set as true but no accelerator is found, then device pinned memory won't be used.\n",
      "  warnings.warn(warn_msg)\n"
     ]
    },
    {
     "name": "stdout",
     "output_type": "stream",
     "text": [
      "Epoch 032 — Train Loss: 0.7380, Val Loss: 0.7300 ,Train R2 score: 0.2649, Val R2 score: 0.2608\n"
     ]
    },
    {
     "name": "stderr",
     "output_type": "stream",
     "text": [
      "C:\\Users\\Koustav Bhattacharje\\anaconda3\\Lib\\site-packages\\torch\\utils\\data\\dataloader.py:665: UserWarning: 'pin_memory' argument is set as true but no accelerator is found, then device pinned memory won't be used.\n",
      "  warnings.warn(warn_msg)\n",
      "C:\\Users\\Koustav Bhattacharje\\anaconda3\\Lib\\site-packages\\torch\\utils\\data\\dataloader.py:665: UserWarning: 'pin_memory' argument is set as true but no accelerator is found, then device pinned memory won't be used.\n",
      "  warnings.warn(warn_msg)\n"
     ]
    },
    {
     "name": "stdout",
     "output_type": "stream",
     "text": [
      "Epoch 033 — Train Loss: 0.7192, Val Loss: 0.6747 ,Train R2 score: 0.2837, Val R2 score: 0.3168\n"
     ]
    },
    {
     "name": "stderr",
     "output_type": "stream",
     "text": [
      "C:\\Users\\Koustav Bhattacharje\\anaconda3\\Lib\\site-packages\\torch\\utils\\data\\dataloader.py:665: UserWarning: 'pin_memory' argument is set as true but no accelerator is found, then device pinned memory won't be used.\n",
      "  warnings.warn(warn_msg)\n",
      "C:\\Users\\Koustav Bhattacharje\\anaconda3\\Lib\\site-packages\\torch\\utils\\data\\dataloader.py:665: UserWarning: 'pin_memory' argument is set as true but no accelerator is found, then device pinned memory won't be used.\n",
      "  warnings.warn(warn_msg)\n"
     ]
    },
    {
     "name": "stdout",
     "output_type": "stream",
     "text": [
      "Epoch 034 — Train Loss: 0.7076, Val Loss: 0.7098 ,Train R2 score: 0.2952, Val R2 score: 0.2813\n"
     ]
    },
    {
     "name": "stderr",
     "output_type": "stream",
     "text": [
      "C:\\Users\\Koustav Bhattacharje\\anaconda3\\Lib\\site-packages\\torch\\utils\\data\\dataloader.py:665: UserWarning: 'pin_memory' argument is set as true but no accelerator is found, then device pinned memory won't be used.\n",
      "  warnings.warn(warn_msg)\n",
      "C:\\Users\\Koustav Bhattacharje\\anaconda3\\Lib\\site-packages\\torch\\utils\\data\\dataloader.py:665: UserWarning: 'pin_memory' argument is set as true but no accelerator is found, then device pinned memory won't be used.\n",
      "  warnings.warn(warn_msg)\n"
     ]
    },
    {
     "name": "stdout",
     "output_type": "stream",
     "text": [
      "Epoch 035 — Train Loss: 0.6705, Val Loss: 0.6529 ,Train R2 score: 0.3321, Val R2 score: 0.3389\n"
     ]
    },
    {
     "name": "stderr",
     "output_type": "stream",
     "text": [
      "C:\\Users\\Koustav Bhattacharje\\anaconda3\\Lib\\site-packages\\torch\\utils\\data\\dataloader.py:665: UserWarning: 'pin_memory' argument is set as true but no accelerator is found, then device pinned memory won't be used.\n",
      "  warnings.warn(warn_msg)\n",
      "C:\\Users\\Koustav Bhattacharje\\anaconda3\\Lib\\site-packages\\torch\\utils\\data\\dataloader.py:665: UserWarning: 'pin_memory' argument is set as true but no accelerator is found, then device pinned memory won't be used.\n",
      "  warnings.warn(warn_msg)\n"
     ]
    },
    {
     "name": "stdout",
     "output_type": "stream",
     "text": [
      "Epoch 036 — Train Loss: 0.6875, Val Loss: 0.6853 ,Train R2 score: 0.3152, Val R2 score: 0.3061\n"
     ]
    },
    {
     "name": "stderr",
     "output_type": "stream",
     "text": [
      "C:\\Users\\Koustav Bhattacharje\\anaconda3\\Lib\\site-packages\\torch\\utils\\data\\dataloader.py:665: UserWarning: 'pin_memory' argument is set as true but no accelerator is found, then device pinned memory won't be used.\n",
      "  warnings.warn(warn_msg)\n",
      "C:\\Users\\Koustav Bhattacharje\\anaconda3\\Lib\\site-packages\\torch\\utils\\data\\dataloader.py:665: UserWarning: 'pin_memory' argument is set as true but no accelerator is found, then device pinned memory won't be used.\n",
      "  warnings.warn(warn_msg)\n"
     ]
    },
    {
     "name": "stdout",
     "output_type": "stream",
     "text": [
      "Epoch 037 — Train Loss: 0.6749, Val Loss: 0.6709 ,Train R2 score: 0.3277, Val R2 score: 0.3207\n"
     ]
    },
    {
     "name": "stderr",
     "output_type": "stream",
     "text": [
      "C:\\Users\\Koustav Bhattacharje\\anaconda3\\Lib\\site-packages\\torch\\utils\\data\\dataloader.py:665: UserWarning: 'pin_memory' argument is set as true but no accelerator is found, then device pinned memory won't be used.\n",
      "  warnings.warn(warn_msg)\n",
      "C:\\Users\\Koustav Bhattacharje\\anaconda3\\Lib\\site-packages\\torch\\utils\\data\\dataloader.py:665: UserWarning: 'pin_memory' argument is set as true but no accelerator is found, then device pinned memory won't be used.\n",
      "  warnings.warn(warn_msg)\n"
     ]
    },
    {
     "name": "stdout",
     "output_type": "stream",
     "text": [
      "Epoch 038 — Train Loss: 0.6812, Val Loss: 0.6459 ,Train R2 score: 0.3215, Val R2 score: 0.3460\n"
     ]
    },
    {
     "name": "stderr",
     "output_type": "stream",
     "text": [
      "C:\\Users\\Koustav Bhattacharje\\anaconda3\\Lib\\site-packages\\torch\\utils\\data\\dataloader.py:665: UserWarning: 'pin_memory' argument is set as true but no accelerator is found, then device pinned memory won't be used.\n",
      "  warnings.warn(warn_msg)\n",
      "C:\\Users\\Koustav Bhattacharje\\anaconda3\\Lib\\site-packages\\torch\\utils\\data\\dataloader.py:665: UserWarning: 'pin_memory' argument is set as true but no accelerator is found, then device pinned memory won't be used.\n",
      "  warnings.warn(warn_msg)\n"
     ]
    },
    {
     "name": "stdout",
     "output_type": "stream",
     "text": [
      "Epoch 039 — Train Loss: 0.6687, Val Loss: 0.6973 ,Train R2 score: 0.3339, Val R2 score: 0.2939\n"
     ]
    },
    {
     "name": "stderr",
     "output_type": "stream",
     "text": [
      "C:\\Users\\Koustav Bhattacharje\\anaconda3\\Lib\\site-packages\\torch\\utils\\data\\dataloader.py:665: UserWarning: 'pin_memory' argument is set as true but no accelerator is found, then device pinned memory won't be used.\n",
      "  warnings.warn(warn_msg)\n",
      "C:\\Users\\Koustav Bhattacharje\\anaconda3\\Lib\\site-packages\\torch\\utils\\data\\dataloader.py:665: UserWarning: 'pin_memory' argument is set as true but no accelerator is found, then device pinned memory won't be used.\n",
      "  warnings.warn(warn_msg)\n"
     ]
    },
    {
     "name": "stdout",
     "output_type": "stream",
     "text": [
      "Epoch 040 — Train Loss: 0.6447, Val Loss: 0.6870 ,Train R2 score: 0.3579, Val R2 score: 0.3044\n"
     ]
    },
    {
     "name": "stderr",
     "output_type": "stream",
     "text": [
      "C:\\Users\\Koustav Bhattacharje\\anaconda3\\Lib\\site-packages\\torch\\utils\\data\\dataloader.py:665: UserWarning: 'pin_memory' argument is set as true but no accelerator is found, then device pinned memory won't be used.\n",
      "  warnings.warn(warn_msg)\n",
      "C:\\Users\\Koustav Bhattacharje\\anaconda3\\Lib\\site-packages\\torch\\utils\\data\\dataloader.py:665: UserWarning: 'pin_memory' argument is set as true but no accelerator is found, then device pinned memory won't be used.\n",
      "  warnings.warn(warn_msg)\n"
     ]
    },
    {
     "name": "stdout",
     "output_type": "stream",
     "text": [
      "Epoch 041 — Train Loss: 0.6441, Val Loss: 0.6364 ,Train R2 score: 0.3584, Val R2 score: 0.3556\n"
     ]
    },
    {
     "name": "stderr",
     "output_type": "stream",
     "text": [
      "C:\\Users\\Koustav Bhattacharje\\anaconda3\\Lib\\site-packages\\torch\\utils\\data\\dataloader.py:665: UserWarning: 'pin_memory' argument is set as true but no accelerator is found, then device pinned memory won't be used.\n",
      "  warnings.warn(warn_msg)\n",
      "C:\\Users\\Koustav Bhattacharje\\anaconda3\\Lib\\site-packages\\torch\\utils\\data\\dataloader.py:665: UserWarning: 'pin_memory' argument is set as true but no accelerator is found, then device pinned memory won't be used.\n",
      "  warnings.warn(warn_msg)\n"
     ]
    },
    {
     "name": "stdout",
     "output_type": "stream",
     "text": [
      "Epoch 042 — Train Loss: 0.6284, Val Loss: 0.6249 ,Train R2 score: 0.3741, Val R2 score: 0.3672\n"
     ]
    },
    {
     "name": "stderr",
     "output_type": "stream",
     "text": [
      "C:\\Users\\Koustav Bhattacharje\\anaconda3\\Lib\\site-packages\\torch\\utils\\data\\dataloader.py:665: UserWarning: 'pin_memory' argument is set as true but no accelerator is found, then device pinned memory won't be used.\n",
      "  warnings.warn(warn_msg)\n",
      "C:\\Users\\Koustav Bhattacharje\\anaconda3\\Lib\\site-packages\\torch\\utils\\data\\dataloader.py:665: UserWarning: 'pin_memory' argument is set as true but no accelerator is found, then device pinned memory won't be used.\n",
      "  warnings.warn(warn_msg)\n"
     ]
    },
    {
     "name": "stdout",
     "output_type": "stream",
     "text": [
      "Epoch 043 — Train Loss: 0.6234, Val Loss: 0.5961 ,Train R2 score: 0.3790, Val R2 score: 0.3964\n"
     ]
    },
    {
     "name": "stderr",
     "output_type": "stream",
     "text": [
      "C:\\Users\\Koustav Bhattacharje\\anaconda3\\Lib\\site-packages\\torch\\utils\\data\\dataloader.py:665: UserWarning: 'pin_memory' argument is set as true but no accelerator is found, then device pinned memory won't be used.\n",
      "  warnings.warn(warn_msg)\n",
      "C:\\Users\\Koustav Bhattacharje\\anaconda3\\Lib\\site-packages\\torch\\utils\\data\\dataloader.py:665: UserWarning: 'pin_memory' argument is set as true but no accelerator is found, then device pinned memory won't be used.\n",
      "  warnings.warn(warn_msg)\n"
     ]
    },
    {
     "name": "stdout",
     "output_type": "stream",
     "text": [
      "Epoch 044 — Train Loss: 0.6326, Val Loss: 0.6564 ,Train R2 score: 0.3699, Val R2 score: 0.3354\n"
     ]
    },
    {
     "name": "stderr",
     "output_type": "stream",
     "text": [
      "C:\\Users\\Koustav Bhattacharje\\anaconda3\\Lib\\site-packages\\torch\\utils\\data\\dataloader.py:665: UserWarning: 'pin_memory' argument is set as true but no accelerator is found, then device pinned memory won't be used.\n",
      "  warnings.warn(warn_msg)\n",
      "C:\\Users\\Koustav Bhattacharje\\anaconda3\\Lib\\site-packages\\torch\\utils\\data\\dataloader.py:665: UserWarning: 'pin_memory' argument is set as true but no accelerator is found, then device pinned memory won't be used.\n",
      "  warnings.warn(warn_msg)\n"
     ]
    },
    {
     "name": "stdout",
     "output_type": "stream",
     "text": [
      "Epoch 045 — Train Loss: 0.6274, Val Loss: 0.5957 ,Train R2 score: 0.3751, Val R2 score: 0.3968\n"
     ]
    },
    {
     "name": "stderr",
     "output_type": "stream",
     "text": [
      "C:\\Users\\Koustav Bhattacharje\\anaconda3\\Lib\\site-packages\\torch\\utils\\data\\dataloader.py:665: UserWarning: 'pin_memory' argument is set as true but no accelerator is found, then device pinned memory won't be used.\n",
      "  warnings.warn(warn_msg)\n",
      "C:\\Users\\Koustav Bhattacharje\\anaconda3\\Lib\\site-packages\\torch\\utils\\data\\dataloader.py:665: UserWarning: 'pin_memory' argument is set as true but no accelerator is found, then device pinned memory won't be used.\n",
      "  warnings.warn(warn_msg)\n"
     ]
    },
    {
     "name": "stdout",
     "output_type": "stream",
     "text": [
      "Epoch 046 — Train Loss: 0.6266, Val Loss: 0.6323 ,Train R2 score: 0.3758, Val R2 score: 0.3598\n"
     ]
    },
    {
     "name": "stderr",
     "output_type": "stream",
     "text": [
      "C:\\Users\\Koustav Bhattacharje\\anaconda3\\Lib\\site-packages\\torch\\utils\\data\\dataloader.py:665: UserWarning: 'pin_memory' argument is set as true but no accelerator is found, then device pinned memory won't be used.\n",
      "  warnings.warn(warn_msg)\n",
      "C:\\Users\\Koustav Bhattacharje\\anaconda3\\Lib\\site-packages\\torch\\utils\\data\\dataloader.py:665: UserWarning: 'pin_memory' argument is set as true but no accelerator is found, then device pinned memory won't be used.\n",
      "  warnings.warn(warn_msg)\n"
     ]
    },
    {
     "name": "stdout",
     "output_type": "stream",
     "text": [
      "Epoch 047 — Train Loss: 0.6193, Val Loss: 0.5985 ,Train R2 score: 0.3831, Val R2 score: 0.3940\n"
     ]
    },
    {
     "name": "stderr",
     "output_type": "stream",
     "text": [
      "C:\\Users\\Koustav Bhattacharje\\anaconda3\\Lib\\site-packages\\torch\\utils\\data\\dataloader.py:665: UserWarning: 'pin_memory' argument is set as true but no accelerator is found, then device pinned memory won't be used.\n",
      "  warnings.warn(warn_msg)\n",
      "C:\\Users\\Koustav Bhattacharje\\anaconda3\\Lib\\site-packages\\torch\\utils\\data\\dataloader.py:665: UserWarning: 'pin_memory' argument is set as true but no accelerator is found, then device pinned memory won't be used.\n",
      "  warnings.warn(warn_msg)\n"
     ]
    },
    {
     "name": "stdout",
     "output_type": "stream",
     "text": [
      "Epoch 048 — Train Loss: 0.6345, Val Loss: 0.5977 ,Train R2 score: 0.3679, Val R2 score: 0.3947\n"
     ]
    },
    {
     "name": "stderr",
     "output_type": "stream",
     "text": [
      "C:\\Users\\Koustav Bhattacharje\\anaconda3\\Lib\\site-packages\\torch\\utils\\data\\dataloader.py:665: UserWarning: 'pin_memory' argument is set as true but no accelerator is found, then device pinned memory won't be used.\n",
      "  warnings.warn(warn_msg)\n",
      "C:\\Users\\Koustav Bhattacharje\\anaconda3\\Lib\\site-packages\\torch\\utils\\data\\dataloader.py:665: UserWarning: 'pin_memory' argument is set as true but no accelerator is found, then device pinned memory won't be used.\n",
      "  warnings.warn(warn_msg)\n"
     ]
    },
    {
     "name": "stdout",
     "output_type": "stream",
     "text": [
      "Epoch 049 — Train Loss: 0.5936, Val Loss: 0.5860 ,Train R2 score: 0.4087, Val R2 score: 0.4067\n"
     ]
    },
    {
     "name": "stderr",
     "output_type": "stream",
     "text": [
      "C:\\Users\\Koustav Bhattacharje\\anaconda3\\Lib\\site-packages\\torch\\utils\\data\\dataloader.py:665: UserWarning: 'pin_memory' argument is set as true but no accelerator is found, then device pinned memory won't be used.\n",
      "  warnings.warn(warn_msg)\n",
      "C:\\Users\\Koustav Bhattacharje\\anaconda3\\Lib\\site-packages\\torch\\utils\\data\\dataloader.py:665: UserWarning: 'pin_memory' argument is set as true but no accelerator is found, then device pinned memory won't be used.\n",
      "  warnings.warn(warn_msg)\n"
     ]
    },
    {
     "name": "stdout",
     "output_type": "stream",
     "text": [
      "Epoch 050 — Train Loss: 0.6217, Val Loss: 0.5758 ,Train R2 score: 0.3807, Val R2 score: 0.4169\n"
     ]
    },
    {
     "name": "stderr",
     "output_type": "stream",
     "text": [
      "C:\\Users\\Koustav Bhattacharje\\anaconda3\\Lib\\site-packages\\torch\\utils\\data\\dataloader.py:665: UserWarning: 'pin_memory' argument is set as true but no accelerator is found, then device pinned memory won't be used.\n",
      "  warnings.warn(warn_msg)\n",
      "C:\\Users\\Koustav Bhattacharje\\anaconda3\\Lib\\site-packages\\torch\\utils\\data\\dataloader.py:665: UserWarning: 'pin_memory' argument is set as true but no accelerator is found, then device pinned memory won't be used.\n",
      "  warnings.warn(warn_msg)\n"
     ]
    },
    {
     "name": "stdout",
     "output_type": "stream",
     "text": [
      "Epoch 051 — Train Loss: 0.5965, Val Loss: 0.5753 ,Train R2 score: 0.4059, Val R2 score: 0.4174\n"
     ]
    },
    {
     "name": "stderr",
     "output_type": "stream",
     "text": [
      "C:\\Users\\Koustav Bhattacharje\\anaconda3\\Lib\\site-packages\\torch\\utils\\data\\dataloader.py:665: UserWarning: 'pin_memory' argument is set as true but no accelerator is found, then device pinned memory won't be used.\n",
      "  warnings.warn(warn_msg)\n",
      "C:\\Users\\Koustav Bhattacharje\\anaconda3\\Lib\\site-packages\\torch\\utils\\data\\dataloader.py:665: UserWarning: 'pin_memory' argument is set as true but no accelerator is found, then device pinned memory won't be used.\n",
      "  warnings.warn(warn_msg)\n"
     ]
    },
    {
     "name": "stdout",
     "output_type": "stream",
     "text": [
      "Epoch 052 — Train Loss: 0.6065, Val Loss: 0.6388 ,Train R2 score: 0.3959, Val R2 score: 0.3532\n"
     ]
    },
    {
     "name": "stderr",
     "output_type": "stream",
     "text": [
      "C:\\Users\\Koustav Bhattacharje\\anaconda3\\Lib\\site-packages\\torch\\utils\\data\\dataloader.py:665: UserWarning: 'pin_memory' argument is set as true but no accelerator is found, then device pinned memory won't be used.\n",
      "  warnings.warn(warn_msg)\n",
      "C:\\Users\\Koustav Bhattacharje\\anaconda3\\Lib\\site-packages\\torch\\utils\\data\\dataloader.py:665: UserWarning: 'pin_memory' argument is set as true but no accelerator is found, then device pinned memory won't be used.\n",
      "  warnings.warn(warn_msg)\n"
     ]
    },
    {
     "name": "stdout",
     "output_type": "stream",
     "text": [
      "Epoch 053 — Train Loss: 0.6271, Val Loss: 0.6179 ,Train R2 score: 0.3753, Val R2 score: 0.3743\n"
     ]
    },
    {
     "name": "stderr",
     "output_type": "stream",
     "text": [
      "C:\\Users\\Koustav Bhattacharje\\anaconda3\\Lib\\site-packages\\torch\\utils\\data\\dataloader.py:665: UserWarning: 'pin_memory' argument is set as true but no accelerator is found, then device pinned memory won't be used.\n",
      "  warnings.warn(warn_msg)\n",
      "C:\\Users\\Koustav Bhattacharje\\anaconda3\\Lib\\site-packages\\torch\\utils\\data\\dataloader.py:665: UserWarning: 'pin_memory' argument is set as true but no accelerator is found, then device pinned memory won't be used.\n",
      "  warnings.warn(warn_msg)\n"
     ]
    },
    {
     "name": "stdout",
     "output_type": "stream",
     "text": [
      "Epoch 054 — Train Loss: 0.6000, Val Loss: 0.5949 ,Train R2 score: 0.4024, Val R2 score: 0.3976\n"
     ]
    },
    {
     "name": "stderr",
     "output_type": "stream",
     "text": [
      "C:\\Users\\Koustav Bhattacharje\\anaconda3\\Lib\\site-packages\\torch\\utils\\data\\dataloader.py:665: UserWarning: 'pin_memory' argument is set as true but no accelerator is found, then device pinned memory won't be used.\n",
      "  warnings.warn(warn_msg)\n",
      "C:\\Users\\Koustav Bhattacharje\\anaconda3\\Lib\\site-packages\\torch\\utils\\data\\dataloader.py:665: UserWarning: 'pin_memory' argument is set as true but no accelerator is found, then device pinned memory won't be used.\n",
      "  warnings.warn(warn_msg)\n"
     ]
    },
    {
     "name": "stdout",
     "output_type": "stream",
     "text": [
      "Epoch 055 — Train Loss: 0.6061, Val Loss: 0.5805 ,Train R2 score: 0.3963, Val R2 score: 0.4122\n"
     ]
    },
    {
     "name": "stderr",
     "output_type": "stream",
     "text": [
      "C:\\Users\\Koustav Bhattacharje\\anaconda3\\Lib\\site-packages\\torch\\utils\\data\\dataloader.py:665: UserWarning: 'pin_memory' argument is set as true but no accelerator is found, then device pinned memory won't be used.\n",
      "  warnings.warn(warn_msg)\n",
      "C:\\Users\\Koustav Bhattacharje\\anaconda3\\Lib\\site-packages\\torch\\utils\\data\\dataloader.py:665: UserWarning: 'pin_memory' argument is set as true but no accelerator is found, then device pinned memory won't be used.\n",
      "  warnings.warn(warn_msg)\n"
     ]
    },
    {
     "name": "stdout",
     "output_type": "stream",
     "text": [
      "Epoch 056 — Train Loss: 0.5828, Val Loss: 0.6483 ,Train R2 score: 0.4195, Val R2 score: 0.3436\n"
     ]
    },
    {
     "name": "stderr",
     "output_type": "stream",
     "text": [
      "C:\\Users\\Koustav Bhattacharje\\anaconda3\\Lib\\site-packages\\torch\\utils\\data\\dataloader.py:665: UserWarning: 'pin_memory' argument is set as true but no accelerator is found, then device pinned memory won't be used.\n",
      "  warnings.warn(warn_msg)\n",
      "C:\\Users\\Koustav Bhattacharje\\anaconda3\\Lib\\site-packages\\torch\\utils\\data\\dataloader.py:665: UserWarning: 'pin_memory' argument is set as true but no accelerator is found, then device pinned memory won't be used.\n",
      "  warnings.warn(warn_msg)\n"
     ]
    },
    {
     "name": "stdout",
     "output_type": "stream",
     "text": [
      "Epoch 057 — Train Loss: 0.5749, Val Loss: 0.6968 ,Train R2 score: 0.4274, Val R2 score: 0.2945\n"
     ]
    },
    {
     "name": "stderr",
     "output_type": "stream",
     "text": [
      "C:\\Users\\Koustav Bhattacharje\\anaconda3\\Lib\\site-packages\\torch\\utils\\data\\dataloader.py:665: UserWarning: 'pin_memory' argument is set as true but no accelerator is found, then device pinned memory won't be used.\n",
      "  warnings.warn(warn_msg)\n",
      "C:\\Users\\Koustav Bhattacharje\\anaconda3\\Lib\\site-packages\\torch\\utils\\data\\dataloader.py:665: UserWarning: 'pin_memory' argument is set as true but no accelerator is found, then device pinned memory won't be used.\n",
      "  warnings.warn(warn_msg)\n"
     ]
    },
    {
     "name": "stdout",
     "output_type": "stream",
     "text": [
      "Epoch 058 — Train Loss: 0.5747, Val Loss: 0.5478 ,Train R2 score: 0.4276, Val R2 score: 0.4453\n"
     ]
    },
    {
     "name": "stderr",
     "output_type": "stream",
     "text": [
      "C:\\Users\\Koustav Bhattacharje\\anaconda3\\Lib\\site-packages\\torch\\utils\\data\\dataloader.py:665: UserWarning: 'pin_memory' argument is set as true but no accelerator is found, then device pinned memory won't be used.\n",
      "  warnings.warn(warn_msg)\n",
      "C:\\Users\\Koustav Bhattacharje\\anaconda3\\Lib\\site-packages\\torch\\utils\\data\\dataloader.py:665: UserWarning: 'pin_memory' argument is set as true but no accelerator is found, then device pinned memory won't be used.\n",
      "  warnings.warn(warn_msg)\n"
     ]
    },
    {
     "name": "stdout",
     "output_type": "stream",
     "text": [
      "Epoch 059 — Train Loss: 0.5923, Val Loss: 0.5885 ,Train R2 score: 0.4100, Val R2 score: 0.4041\n"
     ]
    },
    {
     "name": "stderr",
     "output_type": "stream",
     "text": [
      "C:\\Users\\Koustav Bhattacharje\\anaconda3\\Lib\\site-packages\\torch\\utils\\data\\dataloader.py:665: UserWarning: 'pin_memory' argument is set as true but no accelerator is found, then device pinned memory won't be used.\n",
      "  warnings.warn(warn_msg)\n",
      "C:\\Users\\Koustav Bhattacharje\\anaconda3\\Lib\\site-packages\\torch\\utils\\data\\dataloader.py:665: UserWarning: 'pin_memory' argument is set as true but no accelerator is found, then device pinned memory won't be used.\n",
      "  warnings.warn(warn_msg)\n"
     ]
    },
    {
     "name": "stdout",
     "output_type": "stream",
     "text": [
      "Epoch 060 — Train Loss: 0.5783, Val Loss: 0.5593 ,Train R2 score: 0.4239, Val R2 score: 0.4337\n"
     ]
    },
    {
     "name": "stderr",
     "output_type": "stream",
     "text": [
      "C:\\Users\\Koustav Bhattacharje\\anaconda3\\Lib\\site-packages\\torch\\utils\\data\\dataloader.py:665: UserWarning: 'pin_memory' argument is set as true but no accelerator is found, then device pinned memory won't be used.\n",
      "  warnings.warn(warn_msg)\n",
      "C:\\Users\\Koustav Bhattacharje\\anaconda3\\Lib\\site-packages\\torch\\utils\\data\\dataloader.py:665: UserWarning: 'pin_memory' argument is set as true but no accelerator is found, then device pinned memory won't be used.\n",
      "  warnings.warn(warn_msg)\n"
     ]
    },
    {
     "name": "stdout",
     "output_type": "stream",
     "text": [
      "Epoch 061 — Train Loss: 0.5511, Val Loss: 0.5390 ,Train R2 score: 0.4510, Val R2 score: 0.4542\n"
     ]
    },
    {
     "name": "stderr",
     "output_type": "stream",
     "text": [
      "C:\\Users\\Koustav Bhattacharje\\anaconda3\\Lib\\site-packages\\torch\\utils\\data\\dataloader.py:665: UserWarning: 'pin_memory' argument is set as true but no accelerator is found, then device pinned memory won't be used.\n",
      "  warnings.warn(warn_msg)\n",
      "C:\\Users\\Koustav Bhattacharje\\anaconda3\\Lib\\site-packages\\torch\\utils\\data\\dataloader.py:665: UserWarning: 'pin_memory' argument is set as true but no accelerator is found, then device pinned memory won't be used.\n",
      "  warnings.warn(warn_msg)\n"
     ]
    },
    {
     "name": "stdout",
     "output_type": "stream",
     "text": [
      "Epoch 062 — Train Loss: 0.5633, Val Loss: 0.5954 ,Train R2 score: 0.4389, Val R2 score: 0.3971\n"
     ]
    },
    {
     "name": "stderr",
     "output_type": "stream",
     "text": [
      "C:\\Users\\Koustav Bhattacharje\\anaconda3\\Lib\\site-packages\\torch\\utils\\data\\dataloader.py:665: UserWarning: 'pin_memory' argument is set as true but no accelerator is found, then device pinned memory won't be used.\n",
      "  warnings.warn(warn_msg)\n",
      "C:\\Users\\Koustav Bhattacharje\\anaconda3\\Lib\\site-packages\\torch\\utils\\data\\dataloader.py:665: UserWarning: 'pin_memory' argument is set as true but no accelerator is found, then device pinned memory won't be used.\n",
      "  warnings.warn(warn_msg)\n"
     ]
    },
    {
     "name": "stdout",
     "output_type": "stream",
     "text": [
      "Epoch 063 — Train Loss: 0.5818, Val Loss: 0.5659 ,Train R2 score: 0.4205, Val R2 score: 0.4270\n"
     ]
    },
    {
     "name": "stderr",
     "output_type": "stream",
     "text": [
      "C:\\Users\\Koustav Bhattacharje\\anaconda3\\Lib\\site-packages\\torch\\utils\\data\\dataloader.py:665: UserWarning: 'pin_memory' argument is set as true but no accelerator is found, then device pinned memory won't be used.\n",
      "  warnings.warn(warn_msg)\n",
      "C:\\Users\\Koustav Bhattacharje\\anaconda3\\Lib\\site-packages\\torch\\utils\\data\\dataloader.py:665: UserWarning: 'pin_memory' argument is set as true but no accelerator is found, then device pinned memory won't be used.\n",
      "  warnings.warn(warn_msg)\n"
     ]
    },
    {
     "name": "stdout",
     "output_type": "stream",
     "text": [
      "Epoch 064 — Train Loss: 0.5735, Val Loss: 0.5642 ,Train R2 score: 0.4287, Val R2 score: 0.4287\n"
     ]
    },
    {
     "name": "stderr",
     "output_type": "stream",
     "text": [
      "C:\\Users\\Koustav Bhattacharje\\anaconda3\\Lib\\site-packages\\torch\\utils\\data\\dataloader.py:665: UserWarning: 'pin_memory' argument is set as true but no accelerator is found, then device pinned memory won't be used.\n",
      "  warnings.warn(warn_msg)\n",
      "C:\\Users\\Koustav Bhattacharje\\anaconda3\\Lib\\site-packages\\torch\\utils\\data\\dataloader.py:665: UserWarning: 'pin_memory' argument is set as true but no accelerator is found, then device pinned memory won't be used.\n",
      "  warnings.warn(warn_msg)\n"
     ]
    },
    {
     "name": "stdout",
     "output_type": "stream",
     "text": [
      "Epoch 065 — Train Loss: 0.5473, Val Loss: 0.5942 ,Train R2 score: 0.4548, Val R2 score: 0.3983\n"
     ]
    },
    {
     "name": "stderr",
     "output_type": "stream",
     "text": [
      "C:\\Users\\Koustav Bhattacharje\\anaconda3\\Lib\\site-packages\\torch\\utils\\data\\dataloader.py:665: UserWarning: 'pin_memory' argument is set as true but no accelerator is found, then device pinned memory won't be used.\n",
      "  warnings.warn(warn_msg)\n",
      "C:\\Users\\Koustav Bhattacharje\\anaconda3\\Lib\\site-packages\\torch\\utils\\data\\dataloader.py:665: UserWarning: 'pin_memory' argument is set as true but no accelerator is found, then device pinned memory won't be used.\n",
      "  warnings.warn(warn_msg)\n"
     ]
    },
    {
     "name": "stdout",
     "output_type": "stream",
     "text": [
      "Epoch 066 — Train Loss: 0.5462, Val Loss: 0.5356 ,Train R2 score: 0.4559, Val R2 score: 0.4576\n"
     ]
    },
    {
     "name": "stderr",
     "output_type": "stream",
     "text": [
      "C:\\Users\\Koustav Bhattacharje\\anaconda3\\Lib\\site-packages\\torch\\utils\\data\\dataloader.py:665: UserWarning: 'pin_memory' argument is set as true but no accelerator is found, then device pinned memory won't be used.\n",
      "  warnings.warn(warn_msg)\n",
      "C:\\Users\\Koustav Bhattacharje\\anaconda3\\Lib\\site-packages\\torch\\utils\\data\\dataloader.py:665: UserWarning: 'pin_memory' argument is set as true but no accelerator is found, then device pinned memory won't be used.\n",
      "  warnings.warn(warn_msg)\n"
     ]
    },
    {
     "name": "stdout",
     "output_type": "stream",
     "text": [
      "Epoch 067 — Train Loss: 0.5517, Val Loss: 0.5280 ,Train R2 score: 0.4504, Val R2 score: 0.4654\n"
     ]
    },
    {
     "name": "stderr",
     "output_type": "stream",
     "text": [
      "C:\\Users\\Koustav Bhattacharje\\anaconda3\\Lib\\site-packages\\torch\\utils\\data\\dataloader.py:665: UserWarning: 'pin_memory' argument is set as true but no accelerator is found, then device pinned memory won't be used.\n",
      "  warnings.warn(warn_msg)\n",
      "C:\\Users\\Koustav Bhattacharje\\anaconda3\\Lib\\site-packages\\torch\\utils\\data\\dataloader.py:665: UserWarning: 'pin_memory' argument is set as true but no accelerator is found, then device pinned memory won't be used.\n",
      "  warnings.warn(warn_msg)\n"
     ]
    },
    {
     "name": "stdout",
     "output_type": "stream",
     "text": [
      "Epoch 068 — Train Loss: 0.5673, Val Loss: 0.6048 ,Train R2 score: 0.4349, Val R2 score: 0.3876\n"
     ]
    },
    {
     "name": "stderr",
     "output_type": "stream",
     "text": [
      "C:\\Users\\Koustav Bhattacharje\\anaconda3\\Lib\\site-packages\\torch\\utils\\data\\dataloader.py:665: UserWarning: 'pin_memory' argument is set as true but no accelerator is found, then device pinned memory won't be used.\n",
      "  warnings.warn(warn_msg)\n",
      "C:\\Users\\Koustav Bhattacharje\\anaconda3\\Lib\\site-packages\\torch\\utils\\data\\dataloader.py:665: UserWarning: 'pin_memory' argument is set as true but no accelerator is found, then device pinned memory won't be used.\n",
      "  warnings.warn(warn_msg)\n"
     ]
    },
    {
     "name": "stdout",
     "output_type": "stream",
     "text": [
      "Epoch 069 — Train Loss: 0.5456, Val Loss: 0.5378 ,Train R2 score: 0.4565, Val R2 score: 0.4554\n"
     ]
    },
    {
     "name": "stderr",
     "output_type": "stream",
     "text": [
      "C:\\Users\\Koustav Bhattacharje\\anaconda3\\Lib\\site-packages\\torch\\utils\\data\\dataloader.py:665: UserWarning: 'pin_memory' argument is set as true but no accelerator is found, then device pinned memory won't be used.\n",
      "  warnings.warn(warn_msg)\n",
      "C:\\Users\\Koustav Bhattacharje\\anaconda3\\Lib\\site-packages\\torch\\utils\\data\\dataloader.py:665: UserWarning: 'pin_memory' argument is set as true but no accelerator is found, then device pinned memory won't be used.\n",
      "  warnings.warn(warn_msg)\n"
     ]
    },
    {
     "name": "stdout",
     "output_type": "stream",
     "text": [
      "Epoch 070 — Train Loss: 0.5351, Val Loss: 0.5264 ,Train R2 score: 0.4670, Val R2 score: 0.4670\n"
     ]
    },
    {
     "name": "stderr",
     "output_type": "stream",
     "text": [
      "C:\\Users\\Koustav Bhattacharje\\anaconda3\\Lib\\site-packages\\torch\\utils\\data\\dataloader.py:665: UserWarning: 'pin_memory' argument is set as true but no accelerator is found, then device pinned memory won't be used.\n",
      "  warnings.warn(warn_msg)\n",
      "C:\\Users\\Koustav Bhattacharje\\anaconda3\\Lib\\site-packages\\torch\\utils\\data\\dataloader.py:665: UserWarning: 'pin_memory' argument is set as true but no accelerator is found, then device pinned memory won't be used.\n",
      "  warnings.warn(warn_msg)\n"
     ]
    },
    {
     "name": "stdout",
     "output_type": "stream",
     "text": [
      "Epoch 071 — Train Loss: 0.5430, Val Loss: 0.5941 ,Train R2 score: 0.4591, Val R2 score: 0.3984\n"
     ]
    },
    {
     "name": "stderr",
     "output_type": "stream",
     "text": [
      "C:\\Users\\Koustav Bhattacharje\\anaconda3\\Lib\\site-packages\\torch\\utils\\data\\dataloader.py:665: UserWarning: 'pin_memory' argument is set as true but no accelerator is found, then device pinned memory won't be used.\n",
      "  warnings.warn(warn_msg)\n",
      "C:\\Users\\Koustav Bhattacharje\\anaconda3\\Lib\\site-packages\\torch\\utils\\data\\dataloader.py:665: UserWarning: 'pin_memory' argument is set as true but no accelerator is found, then device pinned memory won't be used.\n",
      "  warnings.warn(warn_msg)\n"
     ]
    },
    {
     "name": "stdout",
     "output_type": "stream",
     "text": [
      "Epoch 072 — Train Loss: 0.5601, Val Loss: 0.5274 ,Train R2 score: 0.4420, Val R2 score: 0.4660\n"
     ]
    },
    {
     "name": "stderr",
     "output_type": "stream",
     "text": [
      "C:\\Users\\Koustav Bhattacharje\\anaconda3\\Lib\\site-packages\\torch\\utils\\data\\dataloader.py:665: UserWarning: 'pin_memory' argument is set as true but no accelerator is found, then device pinned memory won't be used.\n",
      "  warnings.warn(warn_msg)\n",
      "C:\\Users\\Koustav Bhattacharje\\anaconda3\\Lib\\site-packages\\torch\\utils\\data\\dataloader.py:665: UserWarning: 'pin_memory' argument is set as true but no accelerator is found, then device pinned memory won't be used.\n",
      "  warnings.warn(warn_msg)\n"
     ]
    },
    {
     "name": "stdout",
     "output_type": "stream",
     "text": [
      "Epoch 073 — Train Loss: 0.5301, Val Loss: 0.6141 ,Train R2 score: 0.4719, Val R2 score: 0.3782\n"
     ]
    },
    {
     "name": "stderr",
     "output_type": "stream",
     "text": [
      "C:\\Users\\Koustav Bhattacharje\\anaconda3\\Lib\\site-packages\\torch\\utils\\data\\dataloader.py:665: UserWarning: 'pin_memory' argument is set as true but no accelerator is found, then device pinned memory won't be used.\n",
      "  warnings.warn(warn_msg)\n",
      "C:\\Users\\Koustav Bhattacharje\\anaconda3\\Lib\\site-packages\\torch\\utils\\data\\dataloader.py:665: UserWarning: 'pin_memory' argument is set as true but no accelerator is found, then device pinned memory won't be used.\n",
      "  warnings.warn(warn_msg)\n"
     ]
    },
    {
     "name": "stdout",
     "output_type": "stream",
     "text": [
      "Epoch 074 — Train Loss: 0.5394, Val Loss: 0.5460 ,Train R2 score: 0.4627, Val R2 score: 0.4471\n"
     ]
    },
    {
     "name": "stderr",
     "output_type": "stream",
     "text": [
      "C:\\Users\\Koustav Bhattacharje\\anaconda3\\Lib\\site-packages\\torch\\utils\\data\\dataloader.py:665: UserWarning: 'pin_memory' argument is set as true but no accelerator is found, then device pinned memory won't be used.\n",
      "  warnings.warn(warn_msg)\n",
      "C:\\Users\\Koustav Bhattacharje\\anaconda3\\Lib\\site-packages\\torch\\utils\\data\\dataloader.py:665: UserWarning: 'pin_memory' argument is set as true but no accelerator is found, then device pinned memory won't be used.\n",
      "  warnings.warn(warn_msg)\n"
     ]
    },
    {
     "name": "stdout",
     "output_type": "stream",
     "text": [
      "Epoch 075 — Train Loss: 0.5358, Val Loss: 0.5783 ,Train R2 score: 0.4663, Val R2 score: 0.4145\n"
     ]
    },
    {
     "name": "stderr",
     "output_type": "stream",
     "text": [
      "C:\\Users\\Koustav Bhattacharje\\anaconda3\\Lib\\site-packages\\torch\\utils\\data\\dataloader.py:665: UserWarning: 'pin_memory' argument is set as true but no accelerator is found, then device pinned memory won't be used.\n",
      "  warnings.warn(warn_msg)\n",
      "C:\\Users\\Koustav Bhattacharje\\anaconda3\\Lib\\site-packages\\torch\\utils\\data\\dataloader.py:665: UserWarning: 'pin_memory' argument is set as true but no accelerator is found, then device pinned memory won't be used.\n",
      "  warnings.warn(warn_msg)\n"
     ]
    },
    {
     "name": "stdout",
     "output_type": "stream",
     "text": [
      "Epoch 076 — Train Loss: 0.5243, Val Loss: 0.5493 ,Train R2 score: 0.4778, Val R2 score: 0.4438\n"
     ]
    },
    {
     "name": "stderr",
     "output_type": "stream",
     "text": [
      "C:\\Users\\Koustav Bhattacharje\\anaconda3\\Lib\\site-packages\\torch\\utils\\data\\dataloader.py:665: UserWarning: 'pin_memory' argument is set as true but no accelerator is found, then device pinned memory won't be used.\n",
      "  warnings.warn(warn_msg)\n",
      "C:\\Users\\Koustav Bhattacharje\\anaconda3\\Lib\\site-packages\\torch\\utils\\data\\dataloader.py:665: UserWarning: 'pin_memory' argument is set as true but no accelerator is found, then device pinned memory won't be used.\n",
      "  warnings.warn(warn_msg)\n"
     ]
    },
    {
     "name": "stdout",
     "output_type": "stream",
     "text": [
      "Epoch 077 — Train Loss: 0.5257, Val Loss: 0.5190 ,Train R2 score: 0.4763, Val R2 score: 0.4745\n"
     ]
    },
    {
     "name": "stderr",
     "output_type": "stream",
     "text": [
      "C:\\Users\\Koustav Bhattacharje\\anaconda3\\Lib\\site-packages\\torch\\utils\\data\\dataloader.py:665: UserWarning: 'pin_memory' argument is set as true but no accelerator is found, then device pinned memory won't be used.\n",
      "  warnings.warn(warn_msg)\n",
      "C:\\Users\\Koustav Bhattacharje\\anaconda3\\Lib\\site-packages\\torch\\utils\\data\\dataloader.py:665: UserWarning: 'pin_memory' argument is set as true but no accelerator is found, then device pinned memory won't be used.\n",
      "  warnings.warn(warn_msg)\n"
     ]
    },
    {
     "name": "stdout",
     "output_type": "stream",
     "text": [
      "Epoch 078 — Train Loss: 0.5335, Val Loss: 0.5588 ,Train R2 score: 0.4686, Val R2 score: 0.4342\n"
     ]
    },
    {
     "name": "stderr",
     "output_type": "stream",
     "text": [
      "C:\\Users\\Koustav Bhattacharje\\anaconda3\\Lib\\site-packages\\torch\\utils\\data\\dataloader.py:665: UserWarning: 'pin_memory' argument is set as true but no accelerator is found, then device pinned memory won't be used.\n",
      "  warnings.warn(warn_msg)\n",
      "C:\\Users\\Koustav Bhattacharje\\anaconda3\\Lib\\site-packages\\torch\\utils\\data\\dataloader.py:665: UserWarning: 'pin_memory' argument is set as true but no accelerator is found, then device pinned memory won't be used.\n",
      "  warnings.warn(warn_msg)\n"
     ]
    },
    {
     "name": "stdout",
     "output_type": "stream",
     "text": [
      "Epoch 079 — Train Loss: 0.5282, Val Loss: 0.5208 ,Train R2 score: 0.4738, Val R2 score: 0.4727\n"
     ]
    },
    {
     "name": "stderr",
     "output_type": "stream",
     "text": [
      "C:\\Users\\Koustav Bhattacharje\\anaconda3\\Lib\\site-packages\\torch\\utils\\data\\dataloader.py:665: UserWarning: 'pin_memory' argument is set as true but no accelerator is found, then device pinned memory won't be used.\n",
      "  warnings.warn(warn_msg)\n",
      "C:\\Users\\Koustav Bhattacharje\\anaconda3\\Lib\\site-packages\\torch\\utils\\data\\dataloader.py:665: UserWarning: 'pin_memory' argument is set as true but no accelerator is found, then device pinned memory won't be used.\n",
      "  warnings.warn(warn_msg)\n"
     ]
    },
    {
     "name": "stdout",
     "output_type": "stream",
     "text": [
      "Epoch 080 — Train Loss: 0.5146, Val Loss: 0.5405 ,Train R2 score: 0.4874, Val R2 score: 0.4527\n"
     ]
    },
    {
     "name": "stderr",
     "output_type": "stream",
     "text": [
      "C:\\Users\\Koustav Bhattacharje\\anaconda3\\Lib\\site-packages\\torch\\utils\\data\\dataloader.py:665: UserWarning: 'pin_memory' argument is set as true but no accelerator is found, then device pinned memory won't be used.\n",
      "  warnings.warn(warn_msg)\n",
      "C:\\Users\\Koustav Bhattacharje\\anaconda3\\Lib\\site-packages\\torch\\utils\\data\\dataloader.py:665: UserWarning: 'pin_memory' argument is set as true but no accelerator is found, then device pinned memory won't be used.\n",
      "  warnings.warn(warn_msg)\n"
     ]
    },
    {
     "name": "stdout",
     "output_type": "stream",
     "text": [
      "Epoch 081 — Train Loss: 0.5274, Val Loss: 0.5088 ,Train R2 score: 0.4747, Val R2 score: 0.4848\n"
     ]
    },
    {
     "name": "stderr",
     "output_type": "stream",
     "text": [
      "C:\\Users\\Koustav Bhattacharje\\anaconda3\\Lib\\site-packages\\torch\\utils\\data\\dataloader.py:665: UserWarning: 'pin_memory' argument is set as true but no accelerator is found, then device pinned memory won't be used.\n",
      "  warnings.warn(warn_msg)\n",
      "C:\\Users\\Koustav Bhattacharje\\anaconda3\\Lib\\site-packages\\torch\\utils\\data\\dataloader.py:665: UserWarning: 'pin_memory' argument is set as true but no accelerator is found, then device pinned memory won't be used.\n",
      "  warnings.warn(warn_msg)\n"
     ]
    },
    {
     "name": "stdout",
     "output_type": "stream",
     "text": [
      "Epoch 082 — Train Loss: 0.5503, Val Loss: 0.5447 ,Train R2 score: 0.4518, Val R2 score: 0.4485\n"
     ]
    },
    {
     "name": "stderr",
     "output_type": "stream",
     "text": [
      "C:\\Users\\Koustav Bhattacharje\\anaconda3\\Lib\\site-packages\\torch\\utils\\data\\dataloader.py:665: UserWarning: 'pin_memory' argument is set as true but no accelerator is found, then device pinned memory won't be used.\n",
      "  warnings.warn(warn_msg)\n",
      "C:\\Users\\Koustav Bhattacharje\\anaconda3\\Lib\\site-packages\\torch\\utils\\data\\dataloader.py:665: UserWarning: 'pin_memory' argument is set as true but no accelerator is found, then device pinned memory won't be used.\n",
      "  warnings.warn(warn_msg)\n"
     ]
    },
    {
     "name": "stdout",
     "output_type": "stream",
     "text": [
      "Epoch 083 — Train Loss: 0.5345, Val Loss: 0.5373 ,Train R2 score: 0.4676, Val R2 score: 0.4559\n"
     ]
    },
    {
     "name": "stderr",
     "output_type": "stream",
     "text": [
      "C:\\Users\\Koustav Bhattacharje\\anaconda3\\Lib\\site-packages\\torch\\utils\\data\\dataloader.py:665: UserWarning: 'pin_memory' argument is set as true but no accelerator is found, then device pinned memory won't be used.\n",
      "  warnings.warn(warn_msg)\n",
      "C:\\Users\\Koustav Bhattacharje\\anaconda3\\Lib\\site-packages\\torch\\utils\\data\\dataloader.py:665: UserWarning: 'pin_memory' argument is set as true but no accelerator is found, then device pinned memory won't be used.\n",
      "  warnings.warn(warn_msg)\n"
     ]
    },
    {
     "name": "stdout",
     "output_type": "stream",
     "text": [
      "Epoch 084 — Train Loss: 0.5051, Val Loss: 0.4974 ,Train R2 score: 0.4969, Val R2 score: 0.4964\n"
     ]
    },
    {
     "name": "stderr",
     "output_type": "stream",
     "text": [
      "C:\\Users\\Koustav Bhattacharje\\anaconda3\\Lib\\site-packages\\torch\\utils\\data\\dataloader.py:665: UserWarning: 'pin_memory' argument is set as true but no accelerator is found, then device pinned memory won't be used.\n",
      "  warnings.warn(warn_msg)\n",
      "C:\\Users\\Koustav Bhattacharje\\anaconda3\\Lib\\site-packages\\torch\\utils\\data\\dataloader.py:665: UserWarning: 'pin_memory' argument is set as true but no accelerator is found, then device pinned memory won't be used.\n",
      "  warnings.warn(warn_msg)\n"
     ]
    },
    {
     "name": "stdout",
     "output_type": "stream",
     "text": [
      "Epoch 085 — Train Loss: 0.5214, Val Loss: 0.4866 ,Train R2 score: 0.4806, Val R2 score: 0.5073\n"
     ]
    },
    {
     "name": "stderr",
     "output_type": "stream",
     "text": [
      "C:\\Users\\Koustav Bhattacharje\\anaconda3\\Lib\\site-packages\\torch\\utils\\data\\dataloader.py:665: UserWarning: 'pin_memory' argument is set as true but no accelerator is found, then device pinned memory won't be used.\n",
      "  warnings.warn(warn_msg)\n",
      "C:\\Users\\Koustav Bhattacharje\\anaconda3\\Lib\\site-packages\\torch\\utils\\data\\dataloader.py:665: UserWarning: 'pin_memory' argument is set as true but no accelerator is found, then device pinned memory won't be used.\n",
      "  warnings.warn(warn_msg)\n"
     ]
    },
    {
     "name": "stdout",
     "output_type": "stream",
     "text": [
      "Epoch 086 — Train Loss: 0.5273, Val Loss: 0.5054 ,Train R2 score: 0.4748, Val R2 score: 0.4882\n"
     ]
    },
    {
     "name": "stderr",
     "output_type": "stream",
     "text": [
      "C:\\Users\\Koustav Bhattacharje\\anaconda3\\Lib\\site-packages\\torch\\utils\\data\\dataloader.py:665: UserWarning: 'pin_memory' argument is set as true but no accelerator is found, then device pinned memory won't be used.\n",
      "  warnings.warn(warn_msg)\n",
      "C:\\Users\\Koustav Bhattacharje\\anaconda3\\Lib\\site-packages\\torch\\utils\\data\\dataloader.py:665: UserWarning: 'pin_memory' argument is set as true but no accelerator is found, then device pinned memory won't be used.\n",
      "  warnings.warn(warn_msg)\n"
     ]
    },
    {
     "name": "stdout",
     "output_type": "stream",
     "text": [
      "Epoch 087 — Train Loss: 0.5119, Val Loss: 0.5091 ,Train R2 score: 0.4901, Val R2 score: 0.4845\n"
     ]
    },
    {
     "name": "stderr",
     "output_type": "stream",
     "text": [
      "C:\\Users\\Koustav Bhattacharje\\anaconda3\\Lib\\site-packages\\torch\\utils\\data\\dataloader.py:665: UserWarning: 'pin_memory' argument is set as true but no accelerator is found, then device pinned memory won't be used.\n",
      "  warnings.warn(warn_msg)\n",
      "C:\\Users\\Koustav Bhattacharje\\anaconda3\\Lib\\site-packages\\torch\\utils\\data\\dataloader.py:665: UserWarning: 'pin_memory' argument is set as true but no accelerator is found, then device pinned memory won't be used.\n",
      "  warnings.warn(warn_msg)\n"
     ]
    },
    {
     "name": "stdout",
     "output_type": "stream",
     "text": [
      "Epoch 088 — Train Loss: 0.5134, Val Loss: 0.5136 ,Train R2 score: 0.4886, Val R2 score: 0.4799\n"
     ]
    },
    {
     "name": "stderr",
     "output_type": "stream",
     "text": [
      "C:\\Users\\Koustav Bhattacharje\\anaconda3\\Lib\\site-packages\\torch\\utils\\data\\dataloader.py:665: UserWarning: 'pin_memory' argument is set as true but no accelerator is found, then device pinned memory won't be used.\n",
      "  warnings.warn(warn_msg)\n",
      "C:\\Users\\Koustav Bhattacharje\\anaconda3\\Lib\\site-packages\\torch\\utils\\data\\dataloader.py:665: UserWarning: 'pin_memory' argument is set as true but no accelerator is found, then device pinned memory won't be used.\n",
      "  warnings.warn(warn_msg)\n"
     ]
    },
    {
     "name": "stdout",
     "output_type": "stream",
     "text": [
      "Epoch 089 — Train Loss: 0.5087, Val Loss: 0.5005 ,Train R2 score: 0.4933, Val R2 score: 0.4932\n"
     ]
    },
    {
     "name": "stderr",
     "output_type": "stream",
     "text": [
      "C:\\Users\\Koustav Bhattacharje\\anaconda3\\Lib\\site-packages\\torch\\utils\\data\\dataloader.py:665: UserWarning: 'pin_memory' argument is set as true but no accelerator is found, then device pinned memory won't be used.\n",
      "  warnings.warn(warn_msg)\n",
      "C:\\Users\\Koustav Bhattacharje\\anaconda3\\Lib\\site-packages\\torch\\utils\\data\\dataloader.py:665: UserWarning: 'pin_memory' argument is set as true but no accelerator is found, then device pinned memory won't be used.\n",
      "  warnings.warn(warn_msg)\n"
     ]
    },
    {
     "name": "stdout",
     "output_type": "stream",
     "text": [
      "Epoch 090 — Train Loss: 0.4908, Val Loss: 0.4942 ,Train R2 score: 0.5111, Val R2 score: 0.4996\n"
     ]
    },
    {
     "name": "stderr",
     "output_type": "stream",
     "text": [
      "C:\\Users\\Koustav Bhattacharje\\anaconda3\\Lib\\site-packages\\torch\\utils\\data\\dataloader.py:665: UserWarning: 'pin_memory' argument is set as true but no accelerator is found, then device pinned memory won't be used.\n",
      "  warnings.warn(warn_msg)\n",
      "C:\\Users\\Koustav Bhattacharje\\anaconda3\\Lib\\site-packages\\torch\\utils\\data\\dataloader.py:665: UserWarning: 'pin_memory' argument is set as true but no accelerator is found, then device pinned memory won't be used.\n",
      "  warnings.warn(warn_msg)\n"
     ]
    },
    {
     "name": "stdout",
     "output_type": "stream",
     "text": [
      "Epoch 091 — Train Loss: 0.5015, Val Loss: 0.5127 ,Train R2 score: 0.5004, Val R2 score: 0.4809\n"
     ]
    },
    {
     "name": "stderr",
     "output_type": "stream",
     "text": [
      "C:\\Users\\Koustav Bhattacharje\\anaconda3\\Lib\\site-packages\\torch\\utils\\data\\dataloader.py:665: UserWarning: 'pin_memory' argument is set as true but no accelerator is found, then device pinned memory won't be used.\n",
      "  warnings.warn(warn_msg)\n",
      "C:\\Users\\Koustav Bhattacharje\\anaconda3\\Lib\\site-packages\\torch\\utils\\data\\dataloader.py:665: UserWarning: 'pin_memory' argument is set as true but no accelerator is found, then device pinned memory won't be used.\n",
      "  warnings.warn(warn_msg)\n"
     ]
    },
    {
     "name": "stdout",
     "output_type": "stream",
     "text": [
      "Epoch 092 — Train Loss: 0.5016, Val Loss: 0.4699 ,Train R2 score: 0.5004, Val R2 score: 0.5242\n"
     ]
    },
    {
     "name": "stderr",
     "output_type": "stream",
     "text": [
      "C:\\Users\\Koustav Bhattacharje\\anaconda3\\Lib\\site-packages\\torch\\utils\\data\\dataloader.py:665: UserWarning: 'pin_memory' argument is set as true but no accelerator is found, then device pinned memory won't be used.\n",
      "  warnings.warn(warn_msg)\n",
      "C:\\Users\\Koustav Bhattacharje\\anaconda3\\Lib\\site-packages\\torch\\utils\\data\\dataloader.py:665: UserWarning: 'pin_memory' argument is set as true but no accelerator is found, then device pinned memory won't be used.\n",
      "  warnings.warn(warn_msg)\n"
     ]
    },
    {
     "name": "stdout",
     "output_type": "stream",
     "text": [
      "Epoch 093 — Train Loss: 0.4967, Val Loss: 0.5456 ,Train R2 score: 0.5053, Val R2 score: 0.4476\n"
     ]
    },
    {
     "name": "stderr",
     "output_type": "stream",
     "text": [
      "C:\\Users\\Koustav Bhattacharje\\anaconda3\\Lib\\site-packages\\torch\\utils\\data\\dataloader.py:665: UserWarning: 'pin_memory' argument is set as true but no accelerator is found, then device pinned memory won't be used.\n",
      "  warnings.warn(warn_msg)\n",
      "C:\\Users\\Koustav Bhattacharje\\anaconda3\\Lib\\site-packages\\torch\\utils\\data\\dataloader.py:665: UserWarning: 'pin_memory' argument is set as true but no accelerator is found, then device pinned memory won't be used.\n",
      "  warnings.warn(warn_msg)\n"
     ]
    },
    {
     "name": "stdout",
     "output_type": "stream",
     "text": [
      "Epoch 094 — Train Loss: 0.4882, Val Loss: 0.5005 ,Train R2 score: 0.5137, Val R2 score: 0.4932\n"
     ]
    },
    {
     "name": "stderr",
     "output_type": "stream",
     "text": [
      "C:\\Users\\Koustav Bhattacharje\\anaconda3\\Lib\\site-packages\\torch\\utils\\data\\dataloader.py:665: UserWarning: 'pin_memory' argument is set as true but no accelerator is found, then device pinned memory won't be used.\n",
      "  warnings.warn(warn_msg)\n",
      "C:\\Users\\Koustav Bhattacharje\\anaconda3\\Lib\\site-packages\\torch\\utils\\data\\dataloader.py:665: UserWarning: 'pin_memory' argument is set as true but no accelerator is found, then device pinned memory won't be used.\n",
      "  warnings.warn(warn_msg)\n"
     ]
    },
    {
     "name": "stdout",
     "output_type": "stream",
     "text": [
      "Epoch 095 — Train Loss: 0.5189, Val Loss: 0.5248 ,Train R2 score: 0.4831, Val R2 score: 0.4686\n"
     ]
    },
    {
     "name": "stderr",
     "output_type": "stream",
     "text": [
      "C:\\Users\\Koustav Bhattacharje\\anaconda3\\Lib\\site-packages\\torch\\utils\\data\\dataloader.py:665: UserWarning: 'pin_memory' argument is set as true but no accelerator is found, then device pinned memory won't be used.\n",
      "  warnings.warn(warn_msg)\n",
      "C:\\Users\\Koustav Bhattacharje\\anaconda3\\Lib\\site-packages\\torch\\utils\\data\\dataloader.py:665: UserWarning: 'pin_memory' argument is set as true but no accelerator is found, then device pinned memory won't be used.\n",
      "  warnings.warn(warn_msg)\n"
     ]
    },
    {
     "name": "stdout",
     "output_type": "stream",
     "text": [
      "Epoch 096 — Train Loss: 0.5044, Val Loss: 0.4892 ,Train R2 score: 0.4975, Val R2 score: 0.5047\n"
     ]
    },
    {
     "name": "stderr",
     "output_type": "stream",
     "text": [
      "C:\\Users\\Koustav Bhattacharje\\anaconda3\\Lib\\site-packages\\torch\\utils\\data\\dataloader.py:665: UserWarning: 'pin_memory' argument is set as true but no accelerator is found, then device pinned memory won't be used.\n",
      "  warnings.warn(warn_msg)\n",
      "C:\\Users\\Koustav Bhattacharje\\anaconda3\\Lib\\site-packages\\torch\\utils\\data\\dataloader.py:665: UserWarning: 'pin_memory' argument is set as true but no accelerator is found, then device pinned memory won't be used.\n",
      "  warnings.warn(warn_msg)\n"
     ]
    },
    {
     "name": "stdout",
     "output_type": "stream",
     "text": [
      "Epoch 097 — Train Loss: 0.4926, Val Loss: 0.5974 ,Train R2 score: 0.5093, Val R2 score: 0.3951\n"
     ]
    },
    {
     "name": "stderr",
     "output_type": "stream",
     "text": [
      "C:\\Users\\Koustav Bhattacharje\\anaconda3\\Lib\\site-packages\\torch\\utils\\data\\dataloader.py:665: UserWarning: 'pin_memory' argument is set as true but no accelerator is found, then device pinned memory won't be used.\n",
      "  warnings.warn(warn_msg)\n",
      "C:\\Users\\Koustav Bhattacharje\\anaconda3\\Lib\\site-packages\\torch\\utils\\data\\dataloader.py:665: UserWarning: 'pin_memory' argument is set as true but no accelerator is found, then device pinned memory won't be used.\n",
      "  warnings.warn(warn_msg)\n"
     ]
    },
    {
     "name": "stdout",
     "output_type": "stream",
     "text": [
      "Epoch 098 — Train Loss: 0.5200, Val Loss: 0.5330 ,Train R2 score: 0.4820, Val R2 score: 0.4603\n"
     ]
    },
    {
     "name": "stderr",
     "output_type": "stream",
     "text": [
      "C:\\Users\\Koustav Bhattacharje\\anaconda3\\Lib\\site-packages\\torch\\utils\\data\\dataloader.py:665: UserWarning: 'pin_memory' argument is set as true but no accelerator is found, then device pinned memory won't be used.\n",
      "  warnings.warn(warn_msg)\n",
      "C:\\Users\\Koustav Bhattacharje\\anaconda3\\Lib\\site-packages\\torch\\utils\\data\\dataloader.py:665: UserWarning: 'pin_memory' argument is set as true but no accelerator is found, then device pinned memory won't be used.\n",
      "  warnings.warn(warn_msg)\n"
     ]
    },
    {
     "name": "stdout",
     "output_type": "stream",
     "text": [
      "Epoch 099 — Train Loss: 0.4968, Val Loss: 0.5018 ,Train R2 score: 0.5052, Val R2 score: 0.4919\n",
      "Epoch 100 — Train Loss: 0.4931, Val Loss: 0.4960 ,Train R2 score: 0.5088, Val R2 score: 0.4978\n"
     ]
    },
    {
     "name": "stderr",
     "output_type": "stream",
     "text": [
      "C:\\Users\\Koustav Bhattacharje\\anaconda3\\Lib\\site-packages\\torch\\utils\\data\\dataloader.py:665: UserWarning: 'pin_memory' argument is set as true but no accelerator is found, then device pinned memory won't be used.\n",
      "  warnings.warn(warn_msg)\n"
     ]
    }
   ],
   "source": [
    "\n",
    "device = torch.device('cuda' if torch.cuda.is_available() else 'cpu')\n",
    "\n",
    "# 2. Create DataLoader\n",
    "batch_size = 64\n",
    "train_ds = TensorDataset(\n",
    "    torch.tensor(X_train, dtype=torch.float32),\n",
    "    torch.tensor(y_train, dtype=torch.float32)\n",
    ")\n",
    "train_loader = DataLoader(train_ds, batch_size=batch_size, shuffle=True, pin_memory=True)\n",
    "\n",
    "# Validation loader\n",
    "val_ds = TensorDataset(\n",
    "    torch.tensor(X_val, dtype=torch.float32),\n",
    "    torch.tensor(y_val, dtype=torch.float32)\n",
    ")\n",
    "val_loader = DataLoader(val_ds, batch_size=batch_size, shuffle=False, pin_memory=True)\n",
    "# 3. Instantiate model, loss, optimizer\n",
    "model = PanelLSTM(input_size=X.shape[2], hidden_size=64, num_layers=2).to(device)\n",
    "criterion = nn.MSELoss()\n",
    "optimizer = torch.optim.Adam(model.parameters(), lr=1e-3)\n",
    "scheduler = torch.optim.lr_scheduler.StepLR(optimizer, step_size=5, gamma=0.5)\n",
    "\n",
    "# 4. Training\n",
    "n_epochs = 100\n",
    "for epoch in range(1, n_epochs+1):\n",
    "    # ——— Training ———\n",
    "    model.train()\n",
    "    train_loss = 0.0\n",
    "    all_preds = []\n",
    "    all_targets = []\n",
    "    for xb, yb in train_loader:\n",
    "        xb, yb = xb.to(device), yb.to(device)\n",
    "        optimizer.zero_grad()\n",
    "        preds = model(xb)\n",
    "        loss = criterion(preds, yb)\n",
    "        loss.backward()\n",
    "        optimizer.step()\n",
    "        all_preds.append(preds.detach().cpu())\n",
    "        all_targets.append(yb.detach().cpu())\n",
    "\n",
    "    all_preds = torch.cat(all_preds)\n",
    "    all_targets = torch.cat(all_targets)\n",
    "\n",
    "    # Calculate train loss using the whole dataset\n",
    "    train_loss = F.mse_loss(all_preds, all_targets, reduction='mean').item()\n",
    "\n",
    "    # Calculate R² score\n",
    "    train_r2 = r2_score(all_targets.numpy(), all_preds.numpy())\n",
    "    \n",
    "    # ——— Validation ———\n",
    "    all_preds = []\n",
    "    all_targets = []\n",
    "    model.eval()\n",
    "    val_loss = 0.0\n",
    "    with torch.no_grad():\n",
    "        for xb, yb in val_loader:\n",
    "            xb, yb = xb.to(device), yb.to(device)\n",
    "            preds = model(xb)\n",
    "            loss = criterion(preds, yb)\n",
    "            all_preds.append(preds.detach().cpu())\n",
    "            all_targets.append(yb.detach().cpu())\n",
    "\n",
    "    all_preds = torch.cat(all_preds)\n",
    "    all_targets = torch.cat(all_targets)\n",
    "\n",
    "    # Calculate train loss using the whole dataset\n",
    "    val_loss = F.mse_loss(all_preds, all_targets, reduction='mean').item()\n",
    "\n",
    "    # Calculate R² score\n",
    "    val_r2 = r2_score(all_targets.numpy(), all_preds.numpy())\n",
    "    \n",
    "    # ——— Logging ———\n",
    "    print(f\"Epoch {epoch:03d} — Train Loss: {train_loss:.4f}, Val Loss: {val_loss:.4f} ,Train R2 score: {train_r2:.4f}, Val R2 score: {val_r2:.4f}\")"
   ]
  },
  {
   "cell_type": "markdown",
   "id": "102aa097-62f4-40d7-bb53-34deda8dc158",
   "metadata": {},
   "source": [
    "### Forecasting 2023 crop yield"
   ]
  },
  {
   "cell_type": "code",
   "execution_count": 405,
   "id": "606f4301-8082-4685-ac50-f06640c01aad",
   "metadata": {},
   "outputs": [],
   "source": [
    "preds = []\n",
    "model.eval()\n",
    "with torch.no_grad():\n",
    "    for (_, panel) in df.groupby(['country','item_id'], sort=False):\n",
    "        panel = panel.sort_values('year').reset_index(drop=True)\n",
    "        if len(panel) < seq_len: continue\n",
    "        seq = panel.tail(seq_len)[feature_cols].to_numpy()\n",
    "        x   = torch.tensor(seq[None,:,:], dtype=torch.float32).to(device)\n",
    "        y_hat_scaled = model(x).cpu().item()\n",
    "        # Invert scaling to original units\n",
    "        y_hat = y_scaler.inverse_transform([[y_hat_scaled]])[0,0]\n",
    "        preds.append({\n",
    "            'country':   panel.loc[0,'country'],\n",
    "            'item': panel.loc[0,'Item'],\n",
    "            'year':      2023,\n",
    "            'predicted': y_hat\n",
    "        })\n",
    "\n",
    "pd.DataFrame(preds).to_csv('forecast_2023_LSTM.csv', index=False)"
   ]
  },
  {
   "cell_type": "markdown",
   "id": "9e95c687-914d-4111-84e3-cd18778fad9f",
   "metadata": {},
   "source": [
    "### Model 2 (Multilayer Perceptron)"
   ]
  },
  {
   "cell_type": "code",
   "execution_count": 407,
   "id": "800e6afc-a5ed-4561-9326-da992cade2cb",
   "metadata": {},
   "outputs": [],
   "source": [
    "df=deepcopy(merged_cols)"
   ]
  },
  {
   "cell_type": "code",
   "execution_count": 409,
   "id": "75ae8d3e-7330-43df-ad4e-687ecb726972",
   "metadata": {},
   "outputs": [],
   "source": [
    "class EmbeddedYieldMLP(nn.Module):\n",
    "    def __init__(self, num_features, num_countries, num_items, embedding_dim=8, hidden_dims=[128, 64]):\n",
    "        super().__init__()\n",
    "        self.country_emb = nn.Embedding(num_countries, embedding_dim)\n",
    "        self.item_emb = nn.Embedding(num_items, embedding_dim)\n",
    "        \n",
    "        input_dim = num_features + 2 * embedding_dim  # numerical + 2 embeddings\n",
    "        layers = []\n",
    "        for h in hidden_dims:\n",
    "            layers += [nn.Linear(input_dim, h), nn.ReLU(), nn.Dropout(0.3)]\n",
    "            input_dim = h\n",
    "        layers.append(nn.Linear(input_dim, 1))\n",
    "        self.model = nn.Sequential(*layers)\n",
    "\n",
    "    def forward(self, x, country_idx, item_idx):\n",
    "        country_vec = self.country_emb(country_idx)\n",
    "        item_vec = self.item_emb(item_idx)\n",
    "        x = torch.cat([x, country_vec, item_vec], dim=1)\n",
    "        return self.model(x).squeeze()"
   ]
  },
  {
   "cell_type": "markdown",
   "id": "55beb419-3030-46e0-8f4d-8cd39a595ad8",
   "metadata": {},
   "source": [
    "### Feature Engineering"
   ]
  },
  {
   "cell_type": "code",
   "execution_count": 411,
   "id": "cdb0e2fc-ba6c-46b4-9dcd-c6c97dad687d",
   "metadata": {},
   "outputs": [
    {
     "name": "stdout",
     "output_type": "stream",
     "text": [
      "(67963, 31)\n",
      "(67963, 16)\n",
      "Least influential features (lowest contribution to PCA):\n",
      "Avg_SoilMoi0_10       0.978597\n",
      "Avg_TWS_inst          1.194419\n",
      "Avg_SoilMoi10_40      1.277572\n",
      "Avg_SoilTMP100_200    1.278823\n",
      "Avg_SoilTMP0_10       1.282979\n",
      "Avg_SoilTMP40_100     1.284487\n",
      "Avg_SoilTMP10_40      1.293618\n",
      "Avg_Rainf_tavg        1.400133\n",
      "Avg_TVeg_tavg         1.502908\n",
      "Avg_CanopInt_inst     1.518404\n",
      "dtype: float64\n",
      "\n",
      " Most influential features:\n",
      "Avg_SoilMoi100_200             1.594384\n",
      "Avg_Snowf_tavg                 1.951739\n",
      "Land_cover_percent_class_6     2.001513\n",
      "Land_cover_percent_class_1     2.151088\n",
      "Land_cover_percent_class_3     2.208009\n",
      "Land_cover_percent_class_5     2.293696\n",
      "Land_cover_percent_class_13    2.331610\n",
      "Land_cover_percent_class_2     2.377601\n",
      "Land_cover_percent_class_7     2.388343\n",
      "Land_cover_percent_class_16    2.406375\n",
      "Avg_ESoil_tavg                 2.467554\n",
      "Land_cover_percent_class_10    2.469899\n",
      "Land_cover_percent_class_14    2.490446\n",
      "Land_cover_percent_class_15    2.550110\n",
      "Land_cover_percent_class_8     2.630741\n",
      "Land_cover_percent_class_17    2.686416\n",
      "Land_cover_percent_classh_4    2.695210\n",
      "Land_cover_percent_class_11    2.775847\n",
      "Land_cover_percent_class_12    3.030712\n",
      "Land_cover_percent_class_9     3.105800\n",
      "dtype: float64\n"
     ]
    }
   ],
   "source": [
    "# Encode country and item globally\n",
    "df['country_id'] = LabelEncoder().fit_transform(df['country'])\n",
    "df['item_id'] = LabelEncoder().fit_transform(df['Item'])\n",
    "\n",
    "num_countries = df['country_id'].nunique()\n",
    "num_items = df['item_id'].nunique()\n",
    "\n",
    "feature_cols = [\n",
    "    c for c in df.columns\n",
    "    if c not in ['latitude','longitude','Item','yield_value','country','year','country_id','item_id']\n",
    "]\n",
    "# Extract raw features and target\n",
    "X_raw = df[feature_cols].values\n",
    "y_raw = df['yield_value'].values.reshape(-1, 1)\n",
    "\n",
    "print(X_raw.shape)\n",
    "# Scale input features and target\n",
    "X_scaler = StandardScaler()\n",
    "y_scaler = StandardScaler()\n",
    "X_scaled = X_scaler.fit_transform(X_raw)\n",
    "y_scaled = y_scaler.fit_transform(y_raw)\n",
    "\n",
    "#Apply PCA (optional, for input compression)\n",
    "pca = PCA(n_components=0.95)\n",
    "X_pca = pca.fit_transform(X_scaled)\n",
    "print(X_pca.shape)\n",
    "\n",
    "\n",
    "loadings = np.abs(pca.components_)  # shape: (num_components, num_features)\n",
    "\n",
    "# Sum of contributions across all selected components\n",
    "feature_scores = loadings.sum(axis=0)\n",
    "\n",
    "# Map to feature names\n",
    "pca_importance = pd.Series(feature_scores, index=feature_cols).sort_values(ascending=True)\n",
    "print(\"Least influential features (lowest contribution to PCA):\")\n",
    "print(pca_importance.head(10))\n",
    "\n",
    "print(\"\\n Most influential features:\")\n",
    "print(pca_importance.tail(20))"
   ]
  },
  {
   "cell_type": "markdown",
   "id": "b068379d-703b-4cbc-b7a0-03b0a9235861",
   "metadata": {},
   "source": [
    "### Creating tensors and train validation split"
   ]
  },
  {
   "cell_type": "code",
   "execution_count": 413,
   "id": "50b78a7c-89cc-4ddf-80f7-e2183361061f",
   "metadata": {},
   "outputs": [],
   "source": [
    "X_tensor = torch.tensor(X_pca, dtype=torch.float32)\n",
    "y_tensor = torch.tensor(y_scaled, dtype=torch.float32).squeeze()\n",
    "country_tensor = torch.tensor(df['country_id'].values, dtype=torch.long)\n",
    "item_tensor = torch.tensor(df['item_id'].values, dtype=torch.long)\n",
    "\n",
    "# Train/test split\n",
    "X_train, X_val, y_train, y_val, c_train, c_val, i_train, i_val = train_test_split(\n",
    "    X_tensor, y_tensor, country_tensor, item_tensor, test_size=0.2, random_state=42\n",
    ")\n",
    "\n",
    "train_ds = TensorDataset(X_train, c_train, i_train, y_train)\n",
    "val_ds = TensorDataset(X_val, c_val, i_val, y_val)\n",
    "\n",
    "train_loader = DataLoader(train_ds, batch_size=64, shuffle=True)\n",
    "val_loader = DataLoader(val_ds, batch_size=64, shuffle=False)"
   ]
  },
  {
   "cell_type": "markdown",
   "id": "d2d639ff-4a64-494c-b7a2-53045606b668",
   "metadata": {},
   "source": [
    "### Training the model"
   ]
  },
  {
   "cell_type": "code",
   "execution_count": 429,
   "id": "3d5263ed-4c32-423e-874b-df62976d87a6",
   "metadata": {},
   "outputs": [
    {
     "name": "stdout",
     "output_type": "stream",
     "text": [
      "Epoch 001 — Train Loss: 0.6073, Val Loss: 0.5287 ,Train R2 score: 0.3743, Val R2 score: 0.5268\n",
      "Epoch 002 — Train Loss: 0.3928, Val Loss: 0.4285 ,Train R2 score: 0.5953, Val R2 score: 0.6165\n",
      "Epoch 003 — Train Loss: 0.3326, Val Loss: 0.3739 ,Train R2 score: 0.6574, Val R2 score: 0.6654\n",
      "Epoch 004 — Train Loss: 0.3027, Val Loss: 0.3657 ,Train R2 score: 0.6882, Val R2 score: 0.6727\n",
      "Epoch 005 — Train Loss: 0.2787, Val Loss: 0.3249 ,Train R2 score: 0.7129, Val R2 score: 0.7092\n",
      "Epoch 006 — Train Loss: 0.2645, Val Loss: 0.3111 ,Train R2 score: 0.7275, Val R2 score: 0.7216\n",
      "Epoch 007 — Train Loss: 0.2515, Val Loss: 0.2884 ,Train R2 score: 0.7409, Val R2 score: 0.7418\n",
      "Epoch 008 — Train Loss: 0.2415, Val Loss: 0.2917 ,Train R2 score: 0.7512, Val R2 score: 0.7389\n",
      "Epoch 009 — Train Loss: 0.2313, Val Loss: 0.2496 ,Train R2 score: 0.7617, Val R2 score: 0.7766\n",
      "Epoch 010 — Train Loss: 0.2157, Val Loss: 0.2519 ,Train R2 score: 0.7777, Val R2 score: 0.7746\n",
      "Epoch 011 — Train Loss: 0.2188, Val Loss: 0.2767 ,Train R2 score: 0.7746, Val R2 score: 0.7523\n",
      "Epoch 012 — Train Loss: 0.1998, Val Loss: 0.2242 ,Train R2 score: 0.7942, Val R2 score: 0.7994\n",
      "Epoch 013 — Train Loss: 0.2071, Val Loss: 0.2389 ,Train R2 score: 0.7867, Val R2 score: 0.7862\n",
      "Epoch 014 — Train Loss: 0.1990, Val Loss: 0.2313 ,Train R2 score: 0.7949, Val R2 score: 0.7930\n",
      "Epoch 015 — Train Loss: 0.1929, Val Loss: 0.2281 ,Train R2 score: 0.8012, Val R2 score: 0.7958\n",
      "Epoch 016 — Train Loss: 0.1808, Val Loss: 0.2069 ,Train R2 score: 0.8137, Val R2 score: 0.8148\n",
      "Epoch 017 — Train Loss: 0.1820, Val Loss: 0.2447 ,Train R2 score: 0.8125, Val R2 score: 0.7810\n",
      "Epoch 018 — Train Loss: 0.1806, Val Loss: 0.1837 ,Train R2 score: 0.8139, Val R2 score: 0.8356\n",
      "Epoch 019 — Train Loss: 0.1772, Val Loss: 0.1888 ,Train R2 score: 0.8175, Val R2 score: 0.8310\n",
      "Epoch 020 — Train Loss: 0.1720, Val Loss: 0.1983 ,Train R2 score: 0.8228, Val R2 score: 0.8225\n",
      "Epoch 021 — Train Loss: 0.1703, Val Loss: 0.1914 ,Train R2 score: 0.8245, Val R2 score: 0.8287\n",
      "Epoch 022 — Train Loss: 0.1695, Val Loss: 0.1829 ,Train R2 score: 0.8254, Val R2 score: 0.8363\n",
      "Epoch 023 — Train Loss: 0.1615, Val Loss: 0.2054 ,Train R2 score: 0.8337, Val R2 score: 0.8161\n",
      "Epoch 024 — Train Loss: 0.1681, Val Loss: 0.2039 ,Train R2 score: 0.8268, Val R2 score: 0.8175\n",
      "Epoch 025 — Train Loss: 0.1638, Val Loss: 0.1893 ,Train R2 score: 0.8313, Val R2 score: 0.8306\n",
      "Epoch 026 — Train Loss: 0.1630, Val Loss: 0.1788 ,Train R2 score: 0.8321, Val R2 score: 0.8399\n",
      "Epoch 027 — Train Loss: 0.1560, Val Loss: 0.1956 ,Train R2 score: 0.8393, Val R2 score: 0.8249\n",
      "Epoch 028 — Train Loss: 0.1649, Val Loss: 0.1921 ,Train R2 score: 0.8301, Val R2 score: 0.8280\n",
      "Epoch 029 — Train Loss: 0.1568, Val Loss: 0.1950 ,Train R2 score: 0.8385, Val R2 score: 0.8254\n",
      "Epoch 030 — Train Loss: 0.1514, Val Loss: 0.1931 ,Train R2 score: 0.8440, Val R2 score: 0.8272\n",
      "Epoch 031 — Train Loss: 0.1587, Val Loss: 0.1883 ,Train R2 score: 0.8365, Val R2 score: 0.8315\n",
      "Epoch 032 — Train Loss: 0.1545, Val Loss: 0.1930 ,Train R2 score: 0.8409, Val R2 score: 0.8273\n",
      "Epoch 033 — Train Loss: 0.1574, Val Loss: 0.1782 ,Train R2 score: 0.8378, Val R2 score: 0.8405\n",
      "Epoch 034 — Train Loss: 0.1546, Val Loss: 0.1690 ,Train R2 score: 0.8407, Val R2 score: 0.8487\n",
      "Epoch 035 — Train Loss: 0.1515, Val Loss: 0.1953 ,Train R2 score: 0.8439, Val R2 score: 0.8252\n",
      "Epoch 036 — Train Loss: 0.1516, Val Loss: 0.1678 ,Train R2 score: 0.8438, Val R2 score: 0.8498\n",
      "Epoch 037 — Train Loss: 0.1510, Val Loss: 0.1731 ,Train R2 score: 0.8445, Val R2 score: 0.8451\n",
      "Epoch 038 — Train Loss: 0.1500, Val Loss: 0.1608 ,Train R2 score: 0.8454, Val R2 score: 0.8561\n",
      "Epoch 039 — Train Loss: 0.1436, Val Loss: 0.1705 ,Train R2 score: 0.8520, Val R2 score: 0.8474\n",
      "Epoch 040 — Train Loss: 0.1397, Val Loss: 0.1745 ,Train R2 score: 0.8560, Val R2 score: 0.8438\n",
      "Epoch 041 — Train Loss: 0.1520, Val Loss: 0.1675 ,Train R2 score: 0.8434, Val R2 score: 0.8501\n",
      "Epoch 042 — Train Loss: 0.1441, Val Loss: 0.1642 ,Train R2 score: 0.8515, Val R2 score: 0.8530\n",
      "Epoch 043 — Train Loss: 0.1510, Val Loss: 0.1742 ,Train R2 score: 0.8445, Val R2 score: 0.8440\n",
      "Epoch 044 — Train Loss: 0.1465, Val Loss: 0.1904 ,Train R2 score: 0.8491, Val R2 score: 0.8296\n",
      "Epoch 045 — Train Loss: 0.1488, Val Loss: 0.1697 ,Train R2 score: 0.8467, Val R2 score: 0.8481\n",
      "Epoch 046 — Train Loss: 0.1448, Val Loss: 0.1617 ,Train R2 score: 0.8508, Val R2 score: 0.8552\n",
      "Epoch 047 — Train Loss: 0.1429, Val Loss: 0.1627 ,Train R2 score: 0.8527, Val R2 score: 0.8544\n",
      "Epoch 048 — Train Loss: 0.1580, Val Loss: 0.1915 ,Train R2 score: 0.8372, Val R2 score: 0.8286\n",
      "Epoch 049 — Train Loss: 0.1398, Val Loss: 0.1658 ,Train R2 score: 0.8559, Val R2 score: 0.8516\n",
      "Epoch 050 — Train Loss: 0.1424, Val Loss: 0.1766 ,Train R2 score: 0.8533, Val R2 score: 0.8419\n",
      "Epoch 051 — Train Loss: 0.1346, Val Loss: 0.1984 ,Train R2 score: 0.8614, Val R2 score: 0.8224\n",
      "Epoch 052 — Train Loss: 0.1452, Val Loss: 0.1859 ,Train R2 score: 0.8504, Val R2 score: 0.8336\n",
      "Epoch 053 — Train Loss: 0.1387, Val Loss: 0.1689 ,Train R2 score: 0.8571, Val R2 score: 0.8488\n",
      "Epoch 054 — Train Loss: 0.1455, Val Loss: 0.1682 ,Train R2 score: 0.8502, Val R2 score: 0.8494\n",
      "Epoch 055 — Train Loss: 0.1466, Val Loss: 0.1585 ,Train R2 score: 0.8490, Val R2 score: 0.8581\n",
      "Epoch 056 — Train Loss: 0.1352, Val Loss: 0.1938 ,Train R2 score: 0.8607, Val R2 score: 0.8265\n",
      "Epoch 057 — Train Loss: 0.1383, Val Loss: 0.1712 ,Train R2 score: 0.8575, Val R2 score: 0.8467\n",
      "Epoch 058 — Train Loss: 0.1342, Val Loss: 0.1631 ,Train R2 score: 0.8617, Val R2 score: 0.8540\n",
      "Epoch 059 — Train Loss: 0.1359, Val Loss: 0.1690 ,Train R2 score: 0.8600, Val R2 score: 0.8488\n",
      "Epoch 060 — Train Loss: 0.1365, Val Loss: 0.1615 ,Train R2 score: 0.8593, Val R2 score: 0.8554\n",
      "Epoch 061 — Train Loss: 0.1303, Val Loss: 0.1824 ,Train R2 score: 0.8658, Val R2 score: 0.8368\n",
      "Epoch 062 — Train Loss: 0.1399, Val Loss: 0.1578 ,Train R2 score: 0.8559, Val R2 score: 0.8588\n",
      "Epoch 063 — Train Loss: 0.1410, Val Loss: 0.1654 ,Train R2 score: 0.8548, Val R2 score: 0.8520\n",
      "Epoch 064 — Train Loss: 0.1348, Val Loss: 0.1822 ,Train R2 score: 0.8611, Val R2 score: 0.8369\n",
      "Epoch 065 — Train Loss: 0.1400, Val Loss: 0.1464 ,Train R2 score: 0.8558, Val R2 score: 0.8689\n",
      "Epoch 066 — Train Loss: 0.1398, Val Loss: 0.1677 ,Train R2 score: 0.8560, Val R2 score: 0.8499\n",
      "Epoch 067 — Train Loss: 0.1409, Val Loss: 0.1673 ,Train R2 score: 0.8548, Val R2 score: 0.8503\n",
      "Epoch 068 — Train Loss: 0.1342, Val Loss: 0.1627 ,Train R2 score: 0.8617, Val R2 score: 0.8544\n",
      "Epoch 069 — Train Loss: 0.1359, Val Loss: 0.1726 ,Train R2 score: 0.8600, Val R2 score: 0.8456\n",
      "Epoch 070 — Train Loss: 0.1406, Val Loss: 0.1641 ,Train R2 score: 0.8551, Val R2 score: 0.8531\n",
      "Epoch 071 — Train Loss: 0.1329, Val Loss: 0.1877 ,Train R2 score: 0.8630, Val R2 score: 0.8320\n",
      "Epoch 072 — Train Loss: 0.1296, Val Loss: 0.1770 ,Train R2 score: 0.8665, Val R2 score: 0.8416\n",
      "Epoch 073 — Train Loss: 0.1364, Val Loss: 0.1533 ,Train R2 score: 0.8595, Val R2 score: 0.8628\n",
      "Epoch 074 — Train Loss: 0.1313, Val Loss: 0.1790 ,Train R2 score: 0.8648, Val R2 score: 0.8398\n",
      "Epoch 075 — Train Loss: 0.1334, Val Loss: 0.1683 ,Train R2 score: 0.8625, Val R2 score: 0.8493\n",
      "Epoch 076 — Train Loss: 0.1335, Val Loss: 0.1633 ,Train R2 score: 0.8625, Val R2 score: 0.8539\n",
      "Epoch 077 — Train Loss: 0.1384, Val Loss: 0.1800 ,Train R2 score: 0.8574, Val R2 score: 0.8389\n",
      "Epoch 078 — Train Loss: 0.1349, Val Loss: 0.1630 ,Train R2 score: 0.8611, Val R2 score: 0.8541\n",
      "Epoch 079 — Train Loss: 0.1292, Val Loss: 0.1522 ,Train R2 score: 0.8669, Val R2 score: 0.8638\n",
      "Epoch 080 — Train Loss: 0.1263, Val Loss: 0.1673 ,Train R2 score: 0.8698, Val R2 score: 0.8503\n",
      "Epoch 081 — Train Loss: 0.1377, Val Loss: 0.1497 ,Train R2 score: 0.8582, Val R2 score: 0.8660\n",
      "Epoch 082 — Train Loss: 0.1285, Val Loss: 0.1691 ,Train R2 score: 0.8677, Val R2 score: 0.8487\n",
      "Epoch 083 — Train Loss: 0.1278, Val Loss: 0.1534 ,Train R2 score: 0.8684, Val R2 score: 0.8627\n",
      "Epoch 084 — Train Loss: 0.1314, Val Loss: 0.1703 ,Train R2 score: 0.8647, Val R2 score: 0.8476\n",
      "Epoch 085 — Train Loss: 0.1304, Val Loss: 0.1526 ,Train R2 score: 0.8657, Val R2 score: 0.8634\n",
      "Epoch 086 — Train Loss: 0.1293, Val Loss: 0.1540 ,Train R2 score: 0.8668, Val R2 score: 0.8621\n",
      "Epoch 087 — Train Loss: 0.1292, Val Loss: 0.1511 ,Train R2 score: 0.8669, Val R2 score: 0.8648\n",
      "Epoch 088 — Train Loss: 0.1284, Val Loss: 0.1641 ,Train R2 score: 0.8677, Val R2 score: 0.8532\n",
      "Epoch 089 — Train Loss: 0.1310, Val Loss: 0.1583 ,Train R2 score: 0.8650, Val R2 score: 0.8583\n",
      "Epoch 090 — Train Loss: 0.1266, Val Loss: 0.1818 ,Train R2 score: 0.8696, Val R2 score: 0.8373\n",
      "Epoch 091 — Train Loss: 0.1231, Val Loss: 0.1501 ,Train R2 score: 0.8731, Val R2 score: 0.8656\n",
      "Epoch 092 — Train Loss: 0.1260, Val Loss: 0.1605 ,Train R2 score: 0.8701, Val R2 score: 0.8563\n",
      "Epoch 093 — Train Loss: 0.1273, Val Loss: 0.1779 ,Train R2 score: 0.8688, Val R2 score: 0.8408\n",
      "Epoch 094 — Train Loss: 0.1314, Val Loss: 0.1435 ,Train R2 score: 0.8646, Val R2 score: 0.8716\n",
      "Epoch 095 — Train Loss: 0.1273, Val Loss: 0.1664 ,Train R2 score: 0.8688, Val R2 score: 0.8510\n",
      "Epoch 096 — Train Loss: 0.1287, Val Loss: 0.1594 ,Train R2 score: 0.8674, Val R2 score: 0.8574\n",
      "Epoch 097 — Train Loss: 0.1383, Val Loss: 0.1525 ,Train R2 score: 0.8575, Val R2 score: 0.8635\n",
      "Epoch 098 — Train Loss: 0.1232, Val Loss: 0.1470 ,Train R2 score: 0.8731, Val R2 score: 0.8684\n",
      "Epoch 099 — Train Loss: 0.1263, Val Loss: 0.1463 ,Train R2 score: 0.8699, Val R2 score: 0.8691\n",
      "Epoch 100 — Train Loss: 0.1237, Val Loss: 0.1584 ,Train R2 score: 0.8726, Val R2 score: 0.8582\n"
     ]
    }
   ],
   "source": [
    "model = EmbeddedYieldMLP(X_train.shape[1], num_countries, num_items)\n",
    "optimizer = torch.optim.Adam(model.parameters(), lr=0.001)\n",
    "criterion = nn.MSELoss()\n",
    "\n",
    "\n",
    "\n",
    "for epoch in range(1,101):\n",
    "    model.train()\n",
    "    total_loss = 0\n",
    "    all_preds = []\n",
    "    all_targets = []\n",
    "    for xb, cb, ib, yb in train_loader:\n",
    "        optimizer.zero_grad()\n",
    "        preds = model(xb, cb, ib)\n",
    "        loss = criterion(preds, yb)\n",
    "        loss.backward()\n",
    "        optimizer.step()\n",
    "        all_preds.append(preds.detach().cpu())\n",
    "        all_targets.append(yb.detach().cpu())\n",
    "\n",
    "    all_preds = torch.cat(all_preds)\n",
    "    all_targets = torch.cat(all_targets)\n",
    "\n",
    "    # Calculate train loss using the whole dataset\n",
    "    train_loss = F.mse_loss(all_preds, all_targets, reduction='mean').item()\n",
    "\n",
    "    # Calculate R² score\n",
    "    train_r2 = r2_score(all_targets.numpy(), all_preds.numpy())\n",
    "    \n",
    "    # Validation\n",
    "    model.eval()\n",
    "    val_loss = 0\n",
    "    rmse=0\n",
    "    all_preds = []\n",
    "    all_targets = []\n",
    "    with torch.no_grad():\n",
    "        for xb, cb, ib, yb in val_loader:\n",
    "            preds = model(xb, cb, ib)\n",
    "            loss = criterion(preds, yb)\n",
    "            all_preds.append(preds.detach().cpu())\n",
    "            all_targets.append(yb.detach().cpu())\n",
    "            \n",
    "    all_preds = torch.cat(all_preds)\n",
    "    all_targets = torch.cat(all_targets)\n",
    "\n",
    "    # Calculate train loss using the whole dataset\n",
    "    val_loss = F.mse_loss(all_preds, all_targets, reduction='mean').item()\n",
    "\n",
    "    # Calculate R² score\n",
    "    val_r2 = r2_score(all_targets.numpy(), all_preds.numpy())\n",
    "\n",
    "    print(f\"Epoch {epoch:03d} — Train Loss: {train_loss:.4f}, Val Loss: {val_loss:.4f} ,Train R2 score: {train_r2:.4f}, Val R2 score: {val_r2:.4f}\")"
   ]
  },
  {
   "cell_type": "markdown",
   "id": "d7d127ee-84da-45e1-a4a1-09fa748bfc2e",
   "metadata": {},
   "source": [
    "### Forecasting 2023 crop yield"
   ]
  },
  {
   "cell_type": "code",
   "execution_count": 448,
   "id": "9e113103-c10e-4eb7-9445-938284fa133c",
   "metadata": {},
   "outputs": [],
   "source": [
    "forecast_results = []\n",
    "\n",
    "# Filter: use only years 2020–2022 to forecast 2023\n",
    "recent_df = df[df['year'].between(2020, 2022)]\n",
    "\n",
    "# Group by country + item\n",
    "grouped = recent_df.groupby(['country', 'Item'])\n",
    "\n",
    "for (country, item), group in grouped:\n",
    "    if len(group) < 1:\n",
    "        continue  # Skip if no data\n",
    "\n",
    "    country_id = group['country_id'].iloc[0]\n",
    "    item_id = group['item_id'].iloc[0]\n",
    "\n",
    "    # Average feature values across 2020–2022\n",
    "    X_recent = group[feature_cols].mean().values.reshape(1, -1)\n",
    "\n",
    "    # Scale and PCA transform (same as during training)\n",
    "    X_scaled = X_scaler.transform(X_recent)\n",
    "    X_pca = pca.transform(X_scaled)\n",
    "\n",
    "    # Convert to torch tensors\n",
    "    X_tensor = torch.tensor(X_pca, dtype=torch.float32)\n",
    "    country_tensor = torch.tensor([country_id], dtype=torch.long)\n",
    "    item_tensor = torch.tensor([item_id], dtype=torch.long)\n",
    "\n",
    "    # Predict\n",
    "    model.eval()\n",
    "    with torch.no_grad():\n",
    "        pred_scaled = model(X_tensor, country_tensor, item_tensor).numpy()\n",
    "        pred_yield = y_scaler.inverse_transform(pred_scaled.reshape(-1, 1)).squeeze()\n",
    "\n",
    "    # Save result\n",
    "    forecast_results.append({\n",
    "        'country': country,\n",
    "        'item': item,\n",
    "        'year': 2023,\n",
    "        'forecast_value': float(pred_yield)\n",
    "    })\n",
    "\n",
    "# Final forecast DataFrame\n",
    "forecast_df = pd.DataFrame(forecast_results)\n",
    "\n",
    "# Show sample\n",
    "pd.DataFrame(forecast_df).to_csv('forecast_2023_MLP.csv', index=False)"
   ]
  },
  {
   "cell_type": "code",
   "execution_count": 432,
   "id": "cfc6f998-23e1-429c-a2d3-fcd160fb602b",
   "metadata": {},
   "outputs": [
    {
     "data": {
      "text/html": [
       "<div>\n",
       "<style scoped>\n",
       "    .dataframe tbody tr th:only-of-type {\n",
       "        vertical-align: middle;\n",
       "    }\n",
       "\n",
       "    .dataframe tbody tr th {\n",
       "        vertical-align: top;\n",
       "    }\n",
       "\n",
       "    .dataframe thead th {\n",
       "        text-align: right;\n",
       "    }\n",
       "</style>\n",
       "<table border=\"1\" class=\"dataframe\">\n",
       "  <thead>\n",
       "    <tr style=\"text-align: right;\">\n",
       "      <th></th>\n",
       "      <th>country</th>\n",
       "      <th>item</th>\n",
       "      <th>year</th>\n",
       "      <th>forecast_value</th>\n",
       "    </tr>\n",
       "  </thead>\n",
       "  <tbody>\n",
       "    <tr>\n",
       "      <th>2664</th>\n",
       "      <td>Lebanon</td>\n",
       "      <td>Apples</td>\n",
       "      <td>2023</td>\n",
       "      <td>15580.948242</td>\n",
       "    </tr>\n",
       "  </tbody>\n",
       "</table>\n",
       "</div>"
      ],
      "text/plain": [
       "      country    item  year  forecast_value\n",
       "2664  Lebanon  Apples  2023    15580.948242"
      ]
     },
     "execution_count": 432,
     "metadata": {},
     "output_type": "execute_result"
    }
   ],
   "source": [
    "forecast_df[(forecast_df['country']=='Lebanon') & (forecast_df['item']== 'Apples') ]"
   ]
  },
  {
   "cell_type": "code",
   "execution_count": 434,
   "id": "254457d0-efd4-4694-bb3b-0d7614cb97de",
   "metadata": {},
   "outputs": [
    {
     "data": {
      "text/html": [
       "<div>\n",
       "<style scoped>\n",
       "    .dataframe tbody tr th:only-of-type {\n",
       "        vertical-align: middle;\n",
       "    }\n",
       "\n",
       "    .dataframe tbody tr th {\n",
       "        vertical-align: top;\n",
       "    }\n",
       "\n",
       "    .dataframe thead th {\n",
       "        text-align: right;\n",
       "    }\n",
       "</style>\n",
       "<table border=\"1\" class=\"dataframe\">\n",
       "  <thead>\n",
       "    <tr style=\"text-align: right;\">\n",
       "      <th></th>\n",
       "      <th>country</th>\n",
       "      <th>Item</th>\n",
       "      <th>year</th>\n",
       "      <th>yield_value</th>\n",
       "    </tr>\n",
       "  </thead>\n",
       "  <tbody>\n",
       "    <tr>\n",
       "      <th>34996</th>\n",
       "      <td>Lebanon</td>\n",
       "      <td>Apples</td>\n",
       "      <td>2010</td>\n",
       "      <td>12428.9</td>\n",
       "    </tr>\n",
       "    <tr>\n",
       "      <th>35035</th>\n",
       "      <td>Lebanon</td>\n",
       "      <td>Apples</td>\n",
       "      <td>2011</td>\n",
       "      <td>12726.6</td>\n",
       "    </tr>\n",
       "    <tr>\n",
       "      <th>35074</th>\n",
       "      <td>Lebanon</td>\n",
       "      <td>Apples</td>\n",
       "      <td>2012</td>\n",
       "      <td>12669.6</td>\n",
       "    </tr>\n",
       "    <tr>\n",
       "      <th>35113</th>\n",
       "      <td>Lebanon</td>\n",
       "      <td>Apples</td>\n",
       "      <td>2013</td>\n",
       "      <td>12654.2</td>\n",
       "    </tr>\n",
       "    <tr>\n",
       "      <th>35152</th>\n",
       "      <td>Lebanon</td>\n",
       "      <td>Apples</td>\n",
       "      <td>2014</td>\n",
       "      <td>15046.3</td>\n",
       "    </tr>\n",
       "    <tr>\n",
       "      <th>35191</th>\n",
       "      <td>Lebanon</td>\n",
       "      <td>Apples</td>\n",
       "      <td>2015</td>\n",
       "      <td>16640.0</td>\n",
       "    </tr>\n",
       "    <tr>\n",
       "      <th>35230</th>\n",
       "      <td>Lebanon</td>\n",
       "      <td>Apples</td>\n",
       "      <td>2016</td>\n",
       "      <td>20785.0</td>\n",
       "    </tr>\n",
       "    <tr>\n",
       "      <th>35269</th>\n",
       "      <td>Lebanon</td>\n",
       "      <td>Apples</td>\n",
       "      <td>2017</td>\n",
       "      <td>18998.6</td>\n",
       "    </tr>\n",
       "    <tr>\n",
       "      <th>35308</th>\n",
       "      <td>Lebanon</td>\n",
       "      <td>Apples</td>\n",
       "      <td>2018</td>\n",
       "      <td>17281.3</td>\n",
       "    </tr>\n",
       "    <tr>\n",
       "      <th>35347</th>\n",
       "      <td>Lebanon</td>\n",
       "      <td>Apples</td>\n",
       "      <td>2019</td>\n",
       "      <td>16051.8</td>\n",
       "    </tr>\n",
       "    <tr>\n",
       "      <th>35386</th>\n",
       "      <td>Lebanon</td>\n",
       "      <td>Apples</td>\n",
       "      <td>2020</td>\n",
       "      <td>16575.4</td>\n",
       "    </tr>\n",
       "    <tr>\n",
       "      <th>35425</th>\n",
       "      <td>Lebanon</td>\n",
       "      <td>Apples</td>\n",
       "      <td>2021</td>\n",
       "      <td>16989.3</td>\n",
       "    </tr>\n",
       "    <tr>\n",
       "      <th>35464</th>\n",
       "      <td>Lebanon</td>\n",
       "      <td>Apples</td>\n",
       "      <td>2022</td>\n",
       "      <td>17081.7</td>\n",
       "    </tr>\n",
       "  </tbody>\n",
       "</table>\n",
       "</div>"
      ],
      "text/plain": [
       "       country    Item  year  yield_value\n",
       "34996  Lebanon  Apples  2010      12428.9\n",
       "35035  Lebanon  Apples  2011      12726.6\n",
       "35074  Lebanon  Apples  2012      12669.6\n",
       "35113  Lebanon  Apples  2013      12654.2\n",
       "35152  Lebanon  Apples  2014      15046.3\n",
       "35191  Lebanon  Apples  2015      16640.0\n",
       "35230  Lebanon  Apples  2016      20785.0\n",
       "35269  Lebanon  Apples  2017      18998.6\n",
       "35308  Lebanon  Apples  2018      17281.3\n",
       "35347  Lebanon  Apples  2019      16051.8\n",
       "35386  Lebanon  Apples  2020      16575.4\n",
       "35425  Lebanon  Apples  2021      16989.3\n",
       "35464  Lebanon  Apples  2022      17081.7"
      ]
     },
     "execution_count": 434,
     "metadata": {},
     "output_type": "execute_result"
    }
   ],
   "source": [
    "merged_cols[['country','Item','year','yield_value']][(merged_cols['country']=='Lebanon') & (merged_cols['Item']== 'Apples')]"
   ]
  },
  {
   "cell_type": "markdown",
   "id": "408a871f-4284-4f1e-b6e2-520ce9c961a4",
   "metadata": {},
   "source": [
    "### Model prediction vs original forecast "
   ]
  },
  {
   "cell_type": "code",
   "execution_count": 439,
   "id": "281e705c-fc7a-4ed9-b7fe-0f12a3185722",
   "metadata": {},
   "outputs": [],
   "source": [
    "def forecast_3year_avg(model, df, country, item, feature_cols, X_scaler, y_scaler, pca):\n",
    "    # Filter for that (country, item)\n",
    "    panel_df = df[(df['country'] == country) & (df['Item'] == item)].sort_values('year')\n",
    "    if len(panel_df) < 4:\n",
    "        print(f\"Not enough data for {country} - {item}\")\n",
    "        return\n",
    "\n",
    "    country_id = panel_df['country_id'].iloc[0]\n",
    "    item_id = panel_df['item_id'].iloc[0]\n",
    "\n",
    "    years = []\n",
    "    actuals = []\n",
    "    forecasts = []\n",
    "\n",
    "    all_years = sorted(panel_df['year'].unique())\n",
    "    \n",
    "    for i in range(3, len(all_years)):\n",
    "        year = all_years[i]\n",
    "        prev_years = all_years[i-3:i]  # get previous 3 years\n",
    "\n",
    "        window_df = panel_df[panel_df['year'].isin(prev_years)]\n",
    "        if len(window_df) < 3:\n",
    "            continue  # skip if missing years\n",
    "\n",
    "        # Get mean of feature values from last 3 years\n",
    "        X_input = window_df[feature_cols].mean().values.reshape(1, -1)\n",
    "        X_scaled = X_scaler.transform(X_input)\n",
    "        X_pca = pca.transform(X_scaled)\n",
    "\n",
    "        # Convert to tensors\n",
    "        X_tensor = torch.tensor(X_pca, dtype=torch.float32)\n",
    "        c_tensor = torch.tensor([country_id], dtype=torch.long)\n",
    "        i_tensor = torch.tensor([item_id], dtype=torch.long)\n",
    "\n",
    "        # Predict\n",
    "        model.eval()\n",
    "        with torch.no_grad():\n",
    "            pred_scaled = model(X_tensor, c_tensor, i_tensor).numpy()\n",
    "            pred_yield = y_scaler.inverse_transform(pred_scaled.reshape(-1, 1)).squeeze()\n",
    "\n",
    "        # Actual yield\n",
    "        actual_yield = panel_df[panel_df['year'] == year]['yield_value'].values\n",
    "        if len(actual_yield) == 0:\n",
    "            actual_yield = np.nan\n",
    "        else:\n",
    "            actual_yield = actual_yield[0]\n",
    "\n",
    "        # Store\n",
    "        years.append(year)\n",
    "        actuals.append(actual_yield)\n",
    "        forecasts.append(pred_yield)\n",
    "\n",
    "    # Plot\n",
    "    plt.figure(figsize=(10, 6))\n",
    "    plt.plot(years, actuals, label='Actual Yield', marker='o')\n",
    "    plt.plot(years, forecasts, label='Forecasted Yield (3-year avg)', linestyle='--', marker='x')\n",
    "    plt.title(f\"3-Year Forecast vs Actual — {item} in {country}\")\n",
    "    plt.xlabel(\"Year\")\n",
    "    plt.ylabel(\"Yield (kg/ha)\")\n",
    "    plt.grid(True)\n",
    "    plt.legend()\n",
    "    plt.tight_layout()\n",
    "    plt.show()\n"
   ]
  },
  {
   "cell_type": "code",
   "execution_count": 459,
   "id": "9510042d-56f9-4ae0-95af-a099e60a0738",
   "metadata": {},
   "outputs": [
    {
     "data": {
      "image/png": "[encoded data removed]",
      "text/plain": [
       "<Figure size 1000x600 with 1 Axes>"
      ]
     },
     "metadata": {},
     "output_type": "display_data"
    }
   ],
   "source": [
    "forecast_3year_avg(\n",
    "    model=model,\n",
    "    df=df,\n",
    "    country='Belgium',\n",
    "    item='Apples',\n",
    "    feature_cols=feature_cols,\n",
    "    X_scaler=X_scaler,\n",
    "    y_scaler=y_scaler,\n",
    "    pca=pca\n",
    ")\n"
   ]
  },
  {
   "cell_type": "code",
   "execution_count": null,
   "id": "501b8751-8ac0-4f06-affe-6fb3ee1a2de3",
   "metadata": {},
   "outputs": [],
   "source": []
  }
 ],
 "metadata": {
  "kernelspec": {
   "display_name": "Python 3 (ipykernel)",
   "language": "python",
   "name": "python3"
  },
  "language_info": {
   "codemirror_mode": {
    "name": "ipython",
    "version": 3
   },
   "file_extension": ".py",
   "mimetype": "text/x-python",
   "name": "python",
   "nbconvert_exporter": "python",
   "pygments_lexer": "ipython3",
   "version": "3.12.4"
  }
 },
 "nbformat": 4,
 "nbformat_minor": 5
}
